{
  "cells": [
    {
      "cell_type": "markdown",
      "metadata": {
        "id": "_bphECiUa9zw"
      },
      "source": [
        "# Assignment 4: Movie Review Analysis [50 Pt]\n",
        "\n",
        "In this assignment, we will build a recurrent neural network to work with sequential text data, specificially, movie review data to identify the reviewer sentiment. In the process of completing this assignment, you will:\n",
        "    \n",
        "1. Clean and process text data for machine learning.\n",
        "2. Perform tokenization of text data.\n",
        "3. Understand and implement a word-level recurrent neural network.\n",
        "4. Implement batching of text data using a DataLoader before training a recurrent neural network.\n",
        "5. Understand how to apply pretrained models for transfer learning in natural language processing projects."
      ]
    },
    {
      "cell_type": "markdown",
      "metadata": {
        "id": "rWiUqJJTa9z6"
      },
      "source": [
        "## Colab Link\n",
        "\n",
        "Include a link to your Colab file here. If you would like the TA to look at your Colab file in case your solutions are cut off, **please make sure that your Colab file is publicly accessible at the time of submission.**"
      ]
    },
    {
      "cell_type": "code",
      "execution_count": null,
      "metadata": {
        "id": "rk7aDAaR2_wz"
      },
      "outputs": [],
      "source": [
        "# TO BE COMPLETED\n",
        "\n",
        "#https://colab.research.google.com/drive/1c1efSJ0sW2WpCBl3RbHALoN6yV5TrzmK?usp=sharing"
      ]
    },
    {
      "cell_type": "markdown",
      "metadata": {
        "id": "fFMdtipUPNdu"
      },
      "source": [
        "# PART A - Sentiment Analysis\n",
        "\n",
        "In this part we will construct a world-level LSTM model for identifying positive and negative reviews. This will be done in a similar way to what was shared in the preparation code for Assignment 4."
      ]
    },
    {
      "cell_type": "code",
      "execution_count": null,
      "metadata": {
        "colab": {
          "base_uri": "https://localhost:8080/"
        },
        "id": "HgfNOUaPa9z8",
        "outputId": "eb895856-fbfc-4a7e-d800-d2dbd14ef1e7"
      },
      "outputs": [
        {
          "output_type": "stream",
          "name": "stderr",
          "text": [
            "[nltk_data] Downloading package stopwords to /root/nltk_data...\n",
            "[nltk_data]   Unzipping corpora/stopwords.zip.\n"
          ]
        }
      ],
      "source": [
        "# load standard modules/libraries\n",
        "import pandas as pd\n",
        "import numpy as np\n",
        "import matplotlib.pyplot as plt\n",
        "import seaborn as sns\n",
        "from sklearn.model_selection import train_test_split\n",
        "\n",
        "# load special modules/libraries\n",
        "import os\n",
        "import warnings\n",
        "import nltk\n",
        "from nltk.corpus import stopwords\n",
        "nltk.download('stopwords')\n",
        "\n",
        "from collections import Counter\n",
        "import string\n",
        "import re\n",
        "from tqdm  import tqdm\n",
        "\n",
        "# load pytorch modules/libraries\n",
        "import torch\n",
        "import torch.nn as nn\n",
        "import torch.nn.functional as F\n",
        "import torch.optim as optim\n",
        "from torch.utils.data import TensorDataset,DataLoader\n",
        "\n",
        "import torchtext\n",
        "import random"
      ]
    },
    {
      "cell_type": "markdown",
      "metadata": {
        "id": "M0jLI9LBa90C"
      },
      "source": [
        "## Part 1. Data Cleaning [5 pt]\n",
        "\n",
        "We will be using the \"IMDB Movie Review Dataset\" provided on the course website. Download \"IMDB Dataset.csv\" into your Colab workspace."
      ]
    },
    {
      "cell_type": "code",
      "execution_count": null,
      "metadata": {
        "id": "iUK5_d0KPsZt",
        "colab": {
          "base_uri": "https://localhost:8080/"
        },
        "outputId": "edc1270c-caa9-49d2-c002-10eb545f4918"
      },
      "outputs": [
        {
          "output_type": "stream",
          "name": "stdout",
          "text": [
            "Mounted at /content/drive\n"
          ]
        }
      ],
      "source": [
        "from google.colab import drive\n",
        "drive.mount('/content/drive')"
      ]
    },
    {
      "cell_type": "markdown",
      "metadata": {
        "id": "sSuF7C_Ga90E"
      },
      "source": [
        "### Part (i) [1pt EXPLORATORY]\n",
        "\n",
        "Open up the file in Python, and examine some examples of positive and negative reviews. Comment on the quality of the data and any challenges you foresee in working with these data. Pick one example of a positive review and one of a negative review to support your comments."
      ]
    },
    {
      "cell_type": "code",
      "execution_count": null,
      "metadata": {
        "colab": {
          "base_uri": "https://localhost:8080/"
        },
        "id": "I_IfXHeTa90F",
        "outputId": "5aa9fe51-5072-46b9-919a-bf9107304023"
      },
      "outputs": [
        {
          "name": "stdout",
          "output_type": "stream",
          "text": [
            "(50000,) (50000,)\n"
          ]
        }
      ],
      "source": [
        "# download IMDB review data\n",
        "\n",
        "# load dataset\n",
        "df = pd.read_csv(filepath_or_buffer='/content/drive/MyDrive/Colab Notebooks/MIE1517/IMDB Dataset.csv')\n",
        "\n",
        "# process into data and labels\n",
        "X = df['review'].values\n",
        "y = df['sentiment'].values\n",
        "\n",
        "print(X.shape,y.shape)"
      ]
    },
    {
      "cell_type": "code",
      "execution_count": null,
      "metadata": {
        "colab": {
          "base_uri": "https://localhost:8080/"
        },
        "id": "8DEb5pmh07Ka",
        "outputId": "cab25342-c72c-4e63-f8dd-ccd419a75964"
      },
      "outputs": [
        {
          "name": "stdout",
          "output_type": "stream",
          "text": [
            "[\"One of the other reviewers has mentioned that after watching just 1 Oz episode you'll be hooked. They are right, as this is exactly what happened with me.<br /><br />The first thing that struck me about Oz was its brutality and unflinching scenes of violence, which set in right from the word GO. Trust me, this is not a show for the faint hearted or timid. This show pulls no punches with regards to drugs, sex or violence. Its is hardcore, in the classic use of the word.<br /><br />It is called OZ as that is the nickname given to the Oswald Maximum Security State Penitentary. It focuses mainly on Emerald City, an experimental section of the prison where all the cells have glass fronts and face inwards, so privacy is not high on the agenda. Em City is home to many..Aryans, Muslims, gangstas, Latinos, Christians, Italians, Irish and more....so scuffles, death stares, dodgy dealings and shady agreements are never far away.<br /><br />I would say the main appeal of the show is due to the fact that it goes where other shows wouldn't dare. Forget pretty pictures painted for mainstream audiences, forget charm, forget romance...OZ doesn't mess around. The first episode I ever saw struck me as so nasty it was surreal, I couldn't say I was ready for it, but as I watched more, I developed a taste for Oz, and got accustomed to the high levels of graphic violence. Not just violence, but injustice (crooked guards who'll be sold out for a nickel, inmates who'll kill on order and get away with it, well mannered, middle class inmates being turned into prison bitches due to their lack of street skills or prison experience) Watching Oz, you may become comfortable with what is uncomfortable viewing....thats if you can get in touch with your darker side.\"\n",
            " 'A wonderful little production. <br /><br />The filming technique is very unassuming- very old-time-BBC fashion and gives a comforting, and sometimes discomforting, sense of realism to the entire piece. <br /><br />The actors are extremely well chosen- Michael Sheen not only \"has got all the polari\" but he has all the voices down pat too! You can truly see the seamless editing guided by the references to Williams\\' diary entries, not only is it well worth the watching but it is a terrificly written and performed piece. A masterful production about one of the great master\\'s of comedy and his life. <br /><br />The realism really comes home with the little things: the fantasy of the guard which, rather than use the traditional \\'dream\\' techniques remains solid then disappears. It plays on our knowledge and our senses, particularly with the scenes concerning Orton and Halliwell and the sets (particularly of their flat with Halliwell\\'s murals decorating every surface) are terribly well done.'\n",
            " 'I thought this was a wonderful way to spend time on a too hot summer weekend, sitting in the air conditioned theater and watching a light-hearted comedy. The plot is simplistic, but the dialogue is witty and the characters are likable (even the well bread suspected serial killer). While some may be disappointed when they realize this is not Match Point 2: Risk Addiction, I thought it was proof that Woody Allen is still fully in control of the style many of us have grown to love.<br /><br />This was the most I\\'d laughed at one of Woody\\'s comedies in years (dare I say a decade?). While I\\'ve never been impressed with Scarlet Johanson, in this she managed to tone down her \"sexy\" image and jumped right into a average, but spirited young woman.<br /><br />This may not be the crown jewel of his career, but it was wittier than \"Devil Wears Prada\" and more interesting than \"Superman\" a great comedy to go see with friends.'\n",
            " \"Basically there's a family where a little boy (Jake) thinks there's a zombie in his closet & his parents are fighting all the time.<br /><br />This movie is slower than a soap opera... and suddenly, Jake decides to become Rambo and kill the zombie.<br /><br />OK, first of all when you're going to make a film you must Decide if its a thriller or a drama! As a drama the movie is watchable. Parents are divorcing & arguing like in real life. And then we have Jake with his closet which totally ruins all the film! I expected to see a BOOGEYMAN similar movie, and instead i watched a drama with some meaningless thriller spots.<br /><br />3 out of 10 just for the well playing parents & descent dialogs. As for the shots with Jake: just ignore them.\"\n",
            " 'Petter Mattei\\'s \"Love in the Time of Money\" is a visually stunning film to watch. Mr. Mattei offers us a vivid portrait about human relations. This is a movie that seems to be telling us what money, power and success do to people in the different situations we encounter. <br /><br />This being a variation on the Arthur Schnitzler\\'s play about the same theme, the director transfers the action to the present time New York where all these different characters meet and connect. Each one is connected in one way, or another to the next person, but no one seems to know the previous point of contact. Stylishly, the film has a sophisticated luxurious look. We are taken to see how these people live and the world they live in their own habitat.<br /><br />The only thing one gets out of all these souls in the picture is the different stages of loneliness each one inhabits. A big city is not exactly the best place in which human relations find sincere fulfillment, as one discerns is the case with most of the people we encounter.<br /><br />The acting is good under Mr. Mattei\\'s direction. Steve Buscemi, Rosario Dawson, Carol Kane, Michael Imperioli, Adrian Grenier, and the rest of the talented cast, make these characters come alive.<br /><br />We wish Mr. Mattei good luck and await anxiously for his next work.']\n",
            "['positive' 'positive' 'positive' 'negative' 'positive']\n"
          ]
        }
      ],
      "source": [
        "# TO BE COMPLETED\n",
        "print(X[:5])\n",
        "print(y[:5])"
      ]
    },
    {
      "cell_type": "code",
      "execution_count": null,
      "metadata": {
        "id": "fcIjeLLk0sE2"
      },
      "outputs": [],
      "source": [
        "'''\n",
        "PROVIDE YOUR ANSWER BELOW\n",
        "\n",
        "Positive Example:\n",
        "\n",
        "  'A wonderful little production. <br /><br />The filming technique is very unassuming........\n",
        "  ......with Halliwell\\'s murals decorating every surface) are terribly well done.'\n",
        "\n",
        "  The above example used a lot of expressive words such as wonderful,terrifically and masterful as\n",
        "  a clear sign of positive sentiment. The review is fine detailed that described the film through\n",
        "  a lot of aspects.\n",
        "\n",
        "Negative Example:\n",
        "  'One of the other reviewers has mentioned that after watching.....................\n",
        "  ........thats if you can get in touch with your darker side.'\n",
        "\n",
        "  This reviewer of this example stated that the scenes of violence is brutal and unflinch. In additon,\n",
        "  reviewer also describe this moive as a hardcore which clearly shows a negative sentiment.\n",
        "\n",
        "In conclusion,the data provided consist of detailed reviews on a various kind of TV series and films\n",
        "with the corresponding sentiment response. After examing the data, some reviews were found to\n",
        "contain unexpected character such as HTML tags (\"<br/><br/>\") and backslash (\"\\\").\n",
        "\n",
        "'''\n"
      ]
    },
    {
      "cell_type": "markdown",
      "metadata": {
        "id": "QaDPP2Ei5k8W"
      },
      "source": [
        "### Part (ii) [1pt EXPLORATORY]\n",
        "\n",
        "Perform summary statistics on the dataset. What is the average character length of a review? What are the lengths of the longest and shortest reviews?\n",
        "\n",
        "How many positive reviews and negative reviews are there. Generate a histogram to compare the average character length for positive and negative reviews. Comment on the differences in positive and negative reviews and how that may affect the model you will be using later."
      ]
    },
    {
      "cell_type": "code",
      "execution_count": null,
      "metadata": {
        "colab": {
          "base_uri": "https://localhost:8080/",
          "height": 559
        },
        "id": "G5SRXZ4V6F4t",
        "outputId": "15df087d-e8ff-491c-b86e-013b00be6a02"
      },
      "outputs": [
        {
          "name": "stdout",
          "output_type": "stream",
          "text": [
            "Average Review Length: 1309.43102\n",
            "Longest Review Length: 13704\n",
            "Shortest Review Length: 32\n",
            "Number of Positive Reviews: 25000\n",
            "Number of Negative Reviews: 25000\n"
          ]
        },
        {
          "data": {
            "image/png": "[encoded data removed]",
            "text/plain": [
              "<Figure size 640x480 with 1 Axes>"
            ]
          },
          "metadata": {},
          "output_type": "display_data"
        }
      ],
      "source": [
        "# TO BE COMPLETED\n",
        "\n",
        "# Add a new column for review lengths\n",
        "df['review_length'] = df['review'].apply(len)\n",
        "\n",
        "# Calculate summary statistics\n",
        "avg_length = df['review_length'].mean()\n",
        "max_length = df['review_length'].max()\n",
        "min_length = df['review_length'].min()\n",
        "\n",
        "# Count positive and negative reviews\n",
        "positive_count = len(df[df['sentiment'] == 'positive'])\n",
        "negative_count = len(df[df['sentiment'] == 'negative'])\n",
        "\n",
        "# Display summary statistics\n",
        "print(\"Average Review Length:\", avg_length)\n",
        "print(\"Longest Review Length:\", max_length)\n",
        "print(\"Shortest Review Length:\", min_length)\n",
        "print(\"Number of Positive Reviews:\", positive_count)\n",
        "print(\"Number of Negative Reviews:\", negative_count)\n",
        "\n",
        "# Generate a histogram\n",
        "plt.hist(df[df['sentiment'] == 'positive']['review_length'], alpha=0.5, label='Positive')\n",
        "plt.hist(df[df['sentiment'] == 'negative']['review_length'], alpha=0.5, label='Negative')\n",
        "plt.title('Distribution of Review Lengths by Sentiment')\n",
        "plt.xlabel('Review Length')\n",
        "plt.ylabel('Frequency')\n",
        "plt.legend(loc='upper right')\n",
        "plt.show()\n",
        "\n",
        "\n",
        "\n"
      ]
    },
    {
      "cell_type": "code",
      "execution_count": null,
      "metadata": {
        "id": "gPSFCNYI6F4u"
      },
      "outputs": [],
      "source": [
        "'''\n",
        "PROVIDE YOUR ANSWER BELOW\n",
        "\n",
        "General observations :\n",
        "                      1.Average Review Length: 1309.43102\n",
        "                      2.Longest Review Length: 13704\n",
        "                      3.Shortest Review Length: 32\n",
        "                      4.Number of Positive Reviews: 25000\n",
        "                      5.Number of Negative Reviews: 25000\n",
        "\n",
        "\n",
        "Observations positive vs negative:\n",
        "                      According to the historgram, it can be seen that the negative review have relativley\n",
        "                      longer length than the positive reviews. Then, the model will associate the length\n",
        "                      of review with the output of sentiment eventually.\n",
        "\n",
        "\n",
        "'''\n"
      ]
    },
    {
      "cell_type": "markdown",
      "metadata": {
        "id": "ShOy3jp2zpRx"
      },
      "source": [
        "### Part (iii) [1pt EXPLORATORY]\n",
        "\n",
        "The following helper code will be used to process the data before we can train our LSTM model. In point form comment on what processing steps are performed in the code provided below and why these steps are necessary or beneficial to training and LSTM."
      ]
    },
    {
      "cell_type": "code",
      "execution_count": null,
      "metadata": {
        "colab": {
          "base_uri": "https://localhost:8080/",
          "height": 192
        },
        "id": "6aamEcrqCqtU",
        "outputId": "ed8796f3-8ead-4bf9-f2f0-93f40c5d3357"
      },
      "outputs": [
        {
          "data": {
            "text/plain": [
              "\"One of the other reviewers has mentioned that after watching just 1 Oz episode you'll be hooked. They are right, as this is exactly what happened with me.<br /><br />The first thing that struck me about Oz was its brutality and unflinching scenes of violence, which set in right from the word GO. Trust me, this is not a show for the faint hearted or timid. This show pulls no punches with regards to drugs, sex or violence. Its is hardcore, in the classic use of the word.<br /><br />It is called OZ as that is the nickname given to the Oswald Maximum Security State Penitentary. It focuses mainly on Emerald City, an experimental section of the prison where all the cells have glass fronts and face inwards, so privacy is not high on the agenda. Em City is home to many..Aryans, Muslims, gangstas, Latinos, Christians, Italians, Irish and more....so scuffles, death stares, dodgy dealings and shady agreements are never far away.<br /><br />I would say the main appeal of the show is due to the fact that it goes where other shows wouldn't dare. Forget pretty pictures painted for mainstream audiences, forget charm, forget romance...OZ doesn't mess around. The first episode I ever saw struck me as so nasty it was surreal, I couldn't say I was ready for it, but as I watched more, I developed a taste for Oz, and got accustomed to the high levels of graphic violence. Not just violence, but injustice (crooked guards who'll be sold out for a nickel, inmates who'll kill on order and get away with it, well mannered, middle class inmates being turned into prison bitches due to their lack of street skills or prison experience) Watching Oz, you may become comfortable with what is uncomfortable viewing....thats if you can get in touch with your darker side.\""
            ]
          },
          "execution_count": 13,
          "metadata": {},
          "output_type": "execute_result"
        }
      ],
      "source": [
        "X[0]"
      ]
    },
    {
      "cell_type": "code",
      "execution_count": null,
      "metadata": {
        "id": "tAjcY6oPz61e"
      },
      "outputs": [],
      "source": [
        "def preprocess_string(str1):\n",
        "    # remove all non-word characters excluding number and letters\n",
        "    str1= re.sub(r\"[^\\w\\s]\",'',str1)\n",
        "    # remove all whitespace with no space\n",
        "    str1= re.sub(r\"\\s\",'',str1)\n",
        "    # replace digits with no space\n",
        "    str1= re.sub(r\"\\d\",'',str1)\n",
        "    return str1\n",
        "\n",
        "def preprocess_sentence(sen1):\n",
        "    word_list=[]\n",
        "    stop_word = set(stopwords.words(\"english\"))\n",
        "    for word in sen1.lower().split():\n",
        "        word = preprocess_string(word)\n",
        "        if word not in stop_word and word!='':\n",
        "            word_list.append(word)\n",
        "    return word_list\n",
        "\n",
        "def get_stoi(data):\n",
        "    word_list=[]\n",
        "    for review in data:\n",
        "        word_list.extend(preprocess_sentence(review))\n",
        "    corpus = Counter(word_list)\n",
        "    print(corpus.get)\n",
        "    # sorting on the basis of most common words\n",
        "    corpus_ =sorted(corpus,key= corpus.get,reverse=True)[:1000]\n",
        "    # creating a dict\n",
        "    stoi =  {ch:i+1 for i,ch in enumerate(corpus_)}\n",
        "    return stoi\n",
        "\n",
        "def tokenize(data, labels, stoi):\n",
        "    # tokenize\n",
        "    data_encoded = []\n",
        "    for review in data:\n",
        "        data_encoded.append([stoi[word] for word in preprocess_sentence(review)\n",
        "                                     if word in stoi.keys()])\n",
        "\n",
        "    labels_encoded = [1 if label =='positive' else 0 for label in labels]\n",
        "\n",
        "    return data_encoded, labels_encoded\n",
        "\n",
        "def padding_(sentences, seq_len):\n",
        "    features = np.zeros((len(sentences), seq_len),dtype=int)\n",
        "    for ii, review in enumerate(sentences):\n",
        "        if len(review)!=0:\n",
        "            features[ii, -len(review):] = np.array(review)[:seq_len]\n",
        "\n",
        "    return features"
      ]
    },
    {
      "cell_type": "code",
      "execution_count": null,
      "metadata": {
        "id": "CHDGI2rn12G_"
      },
      "outputs": [],
      "source": [
        "'''\n",
        "PROVIDE YOUR ANSWER BELOW\n",
        "1. preprocess_string\n",
        "  -Remove all non-word related-character, white space between words and digits.\n",
        "  -This function is an essential step in data cleaning that removes uneccessary information from a text file\n",
        "\n",
        "2. preprocess_sentence\n",
        "  -Process sentence with preprocess_string func and remove sentence stop conditions (stop words or space)\n",
        "  -This function eliminate extra noise from the text data which further cleaned the dataset.\n",
        "\n",
        "3. get_stoi\n",
        "  -Set up a counter to count the frequency of each words appeared in the datasets. Then, choose the top 1000\n",
        "  words and build a 'stoi' which assign each frequent words to a integer.\n",
        "  -This function build a 'stoi' which create a list of vocabulary with a unique integer for this datasets. A\n",
        "  'stoi' will simplify the input space and greatly increase the traning process of LSTM\n",
        "\n",
        "4. tokenize\n",
        "  -Encode the data based on the integer number in 'stoi'. Then, encode labels as 1 for 'positive' and 0\n",
        "  for 'negative'\n",
        "  -This function convert text data into integer numbers which is the correct data input format for LSTM model\n",
        "\n",
        "5. padding\n",
        "  -Add padding to ensure the length of sequence is the same.\n",
        "  -This function ensures all input sequence is uniform for LSTM model\n",
        "\n",
        "'''\n"
      ]
    },
    {
      "cell_type": "markdown",
      "metadata": {
        "id": "ie_D0bv9a90k"
      },
      "source": [
        "### Part (iv) [1pt EXPLORATORY]\n",
        "\n",
        "Split the dataset into `train`, `valid`, and `test`. Use a 60-20-20 split. Then apply the above processing steps to prepare your data for training.\n",
        "\n",
        "Set the padding of the reviews to 500."
      ]
    },
    {
      "cell_type": "code",
      "execution_count": null,
      "metadata": {
        "colab": {
          "base_uri": "https://localhost:8080/"
        },
        "id": "P_Y6Puz9a90l",
        "outputId": "2ceb63e6-337c-42a8-ac5f-fc4ac749a166"
      },
      "outputs": [
        {
          "name": "stdout",
          "output_type": "stream",
          "text": [
            "<built-in method get of Counter object at 0x0000013433296690>\n",
            "Train Data Shape: (30000, 500)\n",
            "Valid Data Shape: (10000, 500)\n",
            "Test Data Shape: (10000, 500)\n"
          ]
        }
      ],
      "source": [
        "# TO BE COMPLETED\n",
        "\n",
        "# Step 1: Split the dataset\n",
        "train_data, temp_data, train_labels, temp_labels = train_test_split(X, y, test_size=0.4, random_state=0)\n",
        "valid_data, test_data, valid_labels, test_labels = train_test_split(temp_data, temp_labels, test_size=0.5, random_state=0)\n",
        "\n",
        "# Get stoi\n",
        "stoi = get_stoi(train_data)\n",
        "\n",
        "# Tokenize\n",
        "train_data_encoded, train_labels_encoded = tokenize(train_data, train_labels, stoi)\n",
        "valid_data_encoded, valid_labels_encoded = tokenize(valid_data, valid_labels, stoi)\n",
        "test_data_encoded, test_labels_encoded = tokenize(test_data, test_labels, stoi)\n",
        "\n",
        "# Padding\n",
        "train_data_padded = padding_(train_data_encoded, 500)\n",
        "valid_data_padded = padding_(valid_data_encoded, 500)\n",
        "test_data_padded = padding_(test_data_encoded, 500)\n",
        "\n",
        "# Display the shapes of the processed data\n",
        "print(\"Train Data Shape:\", train_data_padded.shape)\n",
        "print(\"Valid Data Shape:\", valid_data_padded.shape)\n",
        "print(\"Test Data Shape:\", test_data_padded.shape)"
      ]
    },
    {
      "cell_type": "code",
      "execution_count": null,
      "metadata": {
        "id": "2rjrO6fzfBFC"
      },
      "outputs": [],
      "source": [
        "# Function to convert dataset into tensor\n",
        "from torch.utils.data import Dataset, DataLoader\n",
        "class CustomDataset(Dataset):\n",
        "    def __init__(self, data, labels):\n",
        "        self.data = data\n",
        "        self.labels = labels\n",
        "\n",
        "    def __len__(self):\n",
        "        return len(self.data)\n",
        "\n",
        "    def __getitem__(self, idx):\n",
        "        return torch.LongTensor(self.data[idx]), torch.tensor(self.labels[idx], dtype=torch.float32)\n"
      ]
    },
    {
      "cell_type": "code",
      "execution_count": null,
      "metadata": {
        "colab": {
          "base_uri": "https://localhost:8080/"
        },
        "id": "Va7JjFyfdS0O",
        "outputId": "788f5bd5-bd11-4c4c-b572-e9813becac0b"
      },
      "outputs": [
        {
          "name": "stdout",
          "output_type": "stream",
          "text": [
            "Batch Index: 0\n",
            "Inputs Shape: torch.Size([16, 500])\n",
            "Labels Shape: torch.Size([16])\n"
          ]
        }
      ],
      "source": [
        "# Create datasets\n",
        "train_dataset = CustomDataset(train_data_padded, train_labels_encoded)\n",
        "valid_dataset = CustomDataset(valid_data_padded, valid_labels_encoded)\n",
        "test_dataset = CustomDataset(test_data_padded, test_labels_encoded)\n",
        "\n",
        "# Create DataLoader\n",
        "batch_size = 16\n",
        "train_loader = DataLoader(train_dataset, batch_size=batch_size, shuffle=True)\n",
        "valid_loader = DataLoader(valid_dataset, batch_size=batch_size, shuffle=False)\n",
        "test_loader = DataLoader(test_dataset, batch_size=batch_size, shuffle=False)\n",
        "\n",
        "# Check Frist sample of DataLoader\n",
        "for batch_idx, (inputs, labels) in enumerate(train_loader):\n",
        "    print(\"Batch Index:\", batch_idx)\n",
        "    print(\"Inputs Shape:\", inputs.shape)\n",
        "    print(\"Labels Shape:\", labels.shape)\n",
        "    break # Stop"
      ]
    },
    {
      "cell_type": "markdown",
      "metadata": {
        "id": "Ff5CNk7Qa90y"
      },
      "source": [
        "### Part (v) [1pt EXPLORATORY]\n",
        "\n",
        "Create a DataLoader that will allow you to load the training and validation data in mini-batches. Then generate a dataset of batch size of 16 to verify that the DataLoader works as intended."
      ]
    },
    {
      "cell_type": "markdown",
      "metadata": {
        "id": "y7HnqP6_a904"
      },
      "source": [
        "## Part 2. Model Building [2pt MODEL]\n",
        "\n",
        "Build a recurrent neural network model, using an architecture of your choosing. Use one or more fully-connected layers to make the prediction based on your recurrent network output.\n",
        "\n",
        "Instead of using the RNN output value for the final token, another often used strategy is to max-pool over the entire output array. That is, instead of calling something like:\n",
        "\n",
        "```\n",
        "out, _ = self.rnn(x)\n",
        "self.fc(out[:, -1, :])\n",
        "```\n",
        "\n",
        "where `self.rnn` is an `nn.RNN`, `nn.GRU`, or `nn.LSTM` module, and `self.fc` is a\n",
        "fully-connected\n",
        "layer, we use:\n",
        "\n",
        "```\n",
        "out, _ = self.rnn(x)\n",
        "self.fc(torch.max(out, dim=1)[0])\n",
        "```\n",
        "\n",
        "This works reasonably in practice. An even better alternative is to concatenate the max-pooling and average-pooling of the RNN outputs:\n",
        "\n",
        "```\n",
        "out, _ = self.rnn(x)\n",
        "out = torch.cat([torch.max(out, dim=1)[0],\n",
        "                 torch.mean(out, dim=1)], dim=1)\n",
        "self.fc(out)\n",
        "```\n",
        "\n",
        "We encourage you to try out all these options. The way you pool the RNN outputs is one of the \"hyperparameters\" that you can choose to tune later on."
      ]
    },
    {
      "cell_type": "code",
      "execution_count": null,
      "metadata": {
        "id": "uqYWiSOSgNbq"
      },
      "outputs": [],
      "source": [
        "import torch\n",
        "import torch.nn as nn\n",
        "\n",
        "class SentimentRNN(nn.Module):\n",
        "    def __init__(self, vocab_size, embed_size, hidden_size, output_size, num_layers=1, dropout=0.5):\n",
        "        super(SentimentRNN, self).__init__()\n",
        "        self.embedding = nn.Embedding(vocab_size, embed_size)\n",
        "        self.lstm = nn.LSTM(embed_size, hidden_size, num_layers, batch_first=True, dropout=dropout)\n",
        "        self.fc = nn.Linear(2 * hidden_size, output_size)\n",
        "        self.dropout = nn.Dropout(dropout)\n",
        "\n",
        "    def forward(self, x, hidden):\n",
        "        embedded = self.embedding(x)\n",
        "        lstm_out, hidden = self.lstm(embedded, hidden)\n",
        "\n",
        "        # Max-pooling and average-pooling\n",
        "        max_pool = torch.max(lstm_out, dim=1)[0]\n",
        "        avg_pool = torch.mean(lstm_out, dim=1)\n",
        "\n",
        "        # Combine max-pooling and average-pooling\n",
        "        combined = torch.cat([max_pool, avg_pool], dim=1)\n",
        "        combined = self.dropout(combined)\n",
        "        output = self.fc(combined)\n",
        "\n",
        "        return output, hidden\n"
      ]
    },
    {
      "cell_type": "markdown",
      "metadata": {
        "id": "vKIYPl_Ba90_"
      },
      "source": [
        "## Part 3. Training [3 pt]\n",
        "\n",
        "### Part (i) [1pt MODEL]\n",
        "\n",
        "Complete the `get_accuracy` function, which will compute the\n",
        "accuracy (rate) of your model across a dataset (e.g. validation set)."
      ]
    },
    {
      "cell_type": "code",
      "execution_count": null,
      "metadata": {
        "id": "pvNfhGD6a91A"
      },
      "outputs": [],
      "source": [
        "def get_accuracy(model, data,device):\n",
        "    \"\"\" Compute the accuracy of the `model` across a dataset `data`\n",
        "\n",
        "    Args:\n",
        "        model (torch.nn.Module): The PyTorch model.\n",
        "        data (torch.utils.data.DataLoader): DataLoader containing input and label pairs.\n",
        "\n",
        "    Returns:\n",
        "        float: Accuracy of the model on the given dataset.\n",
        "    \"\"\"\n",
        "    model.eval()\n",
        "    correct = 0\n",
        "    total = 0\n",
        "\n",
        "    with torch.no_grad():\n",
        "        for inputs, labels in data:\n",
        "            inputs, labels = inputs.to(device), labels.to(device)\n",
        "            model = model.to(device)\n",
        "\n",
        "            outputs, _ = model(inputs, None)\n",
        "            predictions = torch.round(torch.sigmoid(outputs))\n",
        "\n",
        "            total += labels.size(0)\n",
        "            correct += (predictions.squeeze() == labels).sum().item()\n",
        "\n",
        "    accuracy = correct / total\n",
        "    return accuracy"
      ]
    },
    {
      "cell_type": "markdown",
      "metadata": {
        "id": "TlxlcAC1a91C"
      },
      "source": [
        "### Part (ii) [1pt MODEL]\n",
        "\n",
        "Train your model. Plot the training curve of your final model.\n",
        "Your training curve should have the training/validation loss and\n",
        "accuracy plotted periodically."
      ]
    },
    {
      "cell_type": "code",
      "execution_count": null,
      "metadata": {
        "id": "UergYXAoFMdM",
        "outputId": "9353d85c-42c9-44b9-e603-e5e1f2bd4cfe"
      },
      "outputs": [
        {
          "name": "stdout",
          "output_type": "stream",
          "text": [
            "Validation Accuracy: 50.20%\n"
          ]
        }
      ],
      "source": [
        "vocab_size = len(stoi) + 1\n",
        "model = SentimentRNN(vocab_size, 300, 256, 1, 2, 0.5)\n",
        "\n",
        "device = torch.device('cuda' if torch.cuda.is_available() else 'cpu')\n",
        "accuracy = get_accuracy(model, valid_loader,device = device)\n",
        "print(f\"Validation Accuracy: {accuracy * 100:.2f}%\")"
      ]
    },
    {
      "cell_type": "code",
      "execution_count": null,
      "metadata": {
        "id": "whlJBpkudnFK"
      },
      "outputs": [],
      "source": [
        "def train_rnn_network(model, train_loader, valid_loader, num_epochs, learning_rate, device):\n",
        "    model = model.to(device)\n",
        "\n",
        "    criterion = nn.BCEWithLogitsLoss()\n",
        "    optimizer = torch.optim.Adam(model.parameters(), lr=learning_rate)\n",
        "\n",
        "    train_losses, valid_losses, train_acc, valid_acc = [], [], [], []\n",
        "    epochs = []\n",
        "\n",
        "    for epoch in range(num_epochs):\n",
        "        model.train()\n",
        "        total_train_loss = 0.0\n",
        "        # Training loss calculation\n",
        "        for tweets, labels in train_loader:\n",
        "            tweets, labels = tweets.to(device), labels.to(device)\n",
        "\n",
        "            optimizer.zero_grad()\n",
        "            outputs, _ = model(tweets, None)\n",
        "            loss = criterion(outputs.squeeze(), labels.float())  # Adjusted here for binary classification\n",
        "            loss.backward()\n",
        "            optimizer.step()\n",
        "\n",
        "            total_train_loss += loss.item()\n",
        "\n",
        "        avg_train_loss = total_train_loss / len(train_loader)\n",
        "        train_losses.append(avg_train_loss)\n",
        "\n",
        "        # Validation loss calculation\n",
        "        model.eval()\n",
        "        total_valid_loss = 0.0\n",
        "\n",
        "        with torch.no_grad():\n",
        "            for tweets_valid, labels_valid in valid_loader:\n",
        "                tweets_valid, labels_valid = tweets_valid.to(device), labels_valid.to(device)\n",
        "\n",
        "                outputs_valid, _ = model(tweets_valid, None)\n",
        "                loss_valid = criterion(outputs_valid.squeeze(), labels_valid.float())\n",
        "                total_valid_loss += loss_valid.item()\n",
        "\n",
        "        avg_valid_loss = total_valid_loss / len(valid_loader)\n",
        "        valid_losses.append(avg_valid_loss)\n",
        "\n",
        "        # Accuracy calculation\n",
        "        model.eval()\n",
        "        train_accuracy = get_accuracy(model, train_loader, device)\n",
        "        valid_accuracy = get_accuracy(model, valid_loader, device)\n",
        "\n",
        "        train_acc.append(train_accuracy)\n",
        "        valid_acc.append(valid_accuracy)\n",
        "\n",
        "        epochs.append(epoch)\n",
        "        print(f\"Epoch {epoch+1}/{num_epochs}; Train Loss: {avg_train_loss:.4f}; Valid Loss: {avg_valid_loss:.4f}; Train Acc: {train_accuracy:.4f}; Valid Acc: {valid_accuracy:.4f}\")\n",
        "\n",
        "    # Plotting\n",
        "    plt.figure(figsize=(12, 5))\n",
        "\n",
        "    plt.subplot(1, 2, 1)\n",
        "    plt.plot(epochs, train_losses, label=\"Train\")\n",
        "    plt.plot(epochs, valid_losses, label=\"Validation\")\n",
        "    plt.xlabel(\"Epoch\")\n",
        "    plt.ylabel(\"Loss\")\n",
        "    plt.title(\"Training and Validation Loss\")\n",
        "    plt.legend()\n",
        "\n",
        "    plt.subplot(1, 2, 2)\n",
        "    plt.plot(epochs, train_acc, label=\"Train\")\n",
        "    plt.plot(epochs, valid_acc, label=\"Validation\")\n",
        "    plt.xlabel(\"Epoch\")\n",
        "    plt.ylabel(\"Accuracy\")\n",
        "    plt.title(\"Training and Validation Accuracy\")\n",
        "    plt.legend()\n",
        "\n",
        "    plt.tight_layout()\n",
        "    plt.show()\n"
      ]
    },
    {
      "cell_type": "code",
      "execution_count": null,
      "metadata": {
        "colab": {
          "base_uri": "https://localhost:8080/",
          "height": 391
        },
        "id": "TD7DH-jjmhrL",
        "outputId": "eb5af422-1496-4029-b44e-beaad0f59b03"
      },
      "outputs": [
        {
          "name": "stdout",
          "output_type": "stream",
          "text": [
            "Epoch 1/5; Train Loss: 0.5169; Valid Loss: 0.4028; Train Acc: 0.8430; Valid Acc: 0.8195\n",
            "Epoch 2/5; Train Loss: 0.3663; Valid Loss: 0.3743; Train Acc: 0.8682; Valid Acc: 0.8372\n",
            "Epoch 3/5; Train Loss: 0.3279; Valid Loss: 0.3636; Train Acc: 0.8831; Valid Acc: 0.8409\n",
            "Epoch 4/5; Train Loss: 0.2965; Valid Loss: 0.3628; Train Acc: 0.8982; Valid Acc: 0.8448\n",
            "Epoch 5/5; Train Loss: 0.2729; Valid Loss: 0.3704; Train Acc: 0.9085; Valid Acc: 0.8443\n"
          ]
        },
        {
          "data": {
            "image/png": "[encoded data removed]",
            "text/plain": [
              "<Figure size 1200x500 with 2 Axes>"
            ]
          },
          "metadata": {},
          "output_type": "display_data"
        }
      ],
      "source": [
        "# Default Training\n",
        "vocab_size = len(stoi) + 1\n",
        "model = SentimentRNN(vocab_size, 300, 256, 1, 2, 0.5)\n",
        "device = torch.device('cuda' if torch.cuda.is_available() else 'cpu')\n",
        "train_rnn_network(model, train_loader, valid_loader, num_epochs=5, learning_rate=0.0001, device=device)"
      ]
    },
    {
      "cell_type": "markdown",
      "metadata": {
        "id": "fE3eRkDAa91F"
      },
      "source": [
        "### Part (iii) [1pt MODEL]\n",
        "\n",
        "Choose at least 4 hyperparameters to tune. Explain how you tuned the hyperparameters.\n",
        "You don't need to include your training curve for every model you trained.\n",
        "Instead, explain what hyperparemters you tuned, what the best validation accuracy was,\n",
        "and the reasoning behind the hyperparameter decisions you made.\n",
        "\n",
        "For this assignment, you should tune more than just your learning rate and epoch.\n",
        "Choose at least 2 hyperparameters that are unrelated to the optimizer."
      ]
    },
    {
      "cell_type": "code",
      "execution_count": null,
      "metadata": {
        "id": "A2GEWfDca91G",
        "outputId": "c2ca7711-e95f-4f9f-b5e2-9d03edeed691"
      },
      "outputs": [
        {
          "name": "stdout",
          "output_type": "stream",
          "text": [
            "Epoch 1/5; Train Loss: 1.4685; Valid Loss: 2.0845; Train Acc: 0.4978; Valid Acc: 0.5020\n",
            "Epoch 2/5; Train Loss: 1.4760; Valid Loss: 0.7425; Train Acc: 0.4985; Valid Acc: 0.4909\n",
            "Epoch 3/5; Train Loss: nan; Valid Loss: nan; Train Acc: 0.0000; Valid Acc: 0.0000\n",
            "Epoch 4/5; Train Loss: nan; Valid Loss: nan; Train Acc: 0.0000; Valid Acc: 0.0000\n",
            "Epoch 5/5; Train Loss: nan; Valid Loss: nan; Train Acc: 0.0000; Valid Acc: 0.0000\n"
          ]
        },
        {
          "data": {
            "image/png": "[encoded data removed]",
            "text/plain": [
              "<Figure size 1200x500 with 2 Axes>"
            ]
          },
          "metadata": {},
          "output_type": "display_data"
        }
      ],
      "source": [
        "# TO BE COMPLETED\n",
        "# Run #1 lr = 0.1 , emb_size = 300 , hidden_size = 256, drop_rate = 0.5\n",
        "vocab_size = len(stoi) + 1\n",
        "model = SentimentRNN(vocab_size, 300, 256, 1, 2, 0.5)\n",
        "device = torch.device('cuda' if torch.cuda.is_available() else 'cpu')\n",
        "train_rnn_network(model, train_loader, valid_loader, num_epochs=5, learning_rate=0.1, device=device)"
      ]
    },
    {
      "cell_type": "code",
      "execution_count": null,
      "metadata": {
        "id": "QKbPlxYDFMdN",
        "outputId": "1691fe69-8204-4788-8794-00de3d648612"
      },
      "outputs": [
        {
          "name": "stdout",
          "output_type": "stream",
          "text": [
            "Epoch 1/5; Train Loss: 0.4902; Valid Loss: 0.3888; Train Acc: 0.8535; Valid Acc: 0.8244\n",
            "Epoch 2/5; Train Loss: 0.3486; Valid Loss: 0.3679; Train Acc: 0.8797; Valid Acc: 0.8399\n",
            "Epoch 3/5; Train Loss: 0.3096; Valid Loss: 0.3550; Train Acc: 0.8964; Valid Acc: 0.8465\n",
            "Epoch 4/5; Train Loss: 0.2764; Valid Loss: 0.3623; Train Acc: 0.9122; Valid Acc: 0.8461\n",
            "Epoch 5/5; Train Loss: 0.2420; Valid Loss: 0.3742; Train Acc: 0.9323; Valid Acc: 0.8472\n"
          ]
        },
        {
          "data": {
            "image/png": "[encoded data removed]",
            "text/plain": [
              "<Figure size 1200x500 with 2 Axes>"
            ]
          },
          "metadata": {},
          "output_type": "display_data"
        }
      ],
      "source": [
        "# TO BE COMPLETED\n",
        "# Run #2 lr = 0.0001 , emb_size = 500 , hidden_size = 256, drop_rate = 0.5\n",
        "vocab_size = len(stoi) + 1\n",
        "model = SentimentRNN(vocab_size, 500, 256, 1, 2, 0.5)\n",
        "device = torch.device('cuda' if torch.cuda.is_available() else 'cpu')\n",
        "train_rnn_network(model, train_loader, valid_loader, num_epochs=5, learning_rate=0.0001, device=device)"
      ]
    },
    {
      "cell_type": "code",
      "execution_count": null,
      "metadata": {
        "id": "3sKkPWqdFMdO",
        "outputId": "f8bf450d-45b1-4bcb-a389-708d38ff71c6"
      },
      "outputs": [
        {
          "name": "stdout",
          "output_type": "stream",
          "text": [
            "Epoch 1/5; Train Loss: 0.5757; Valid Loss: 0.4335; Train Acc: 0.8284; Valid Acc: 0.8034\n",
            "Epoch 2/5; Train Loss: 0.3879; Valid Loss: 0.3824; Train Acc: 0.8628; Valid Acc: 0.8314\n",
            "Epoch 3/5; Train Loss: 0.3448; Valid Loss: 0.3667; Train Acc: 0.8771; Valid Acc: 0.8387\n",
            "Epoch 4/5; Train Loss: 0.3150; Valid Loss: 0.3590; Train Acc: 0.8903; Valid Acc: 0.8427\n",
            "Epoch 5/5; Train Loss: 0.2921; Valid Loss: 0.3583; Train Acc: 0.9015; Valid Acc: 0.8445\n"
          ]
        },
        {
          "data": {
            "image/png": "[encoded data removed]",
            "text/plain": [
              "<Figure size 1200x500 with 2 Axes>"
            ]
          },
          "metadata": {},
          "output_type": "display_data"
        }
      ],
      "source": [
        "# TO BE COMPLETED\n",
        "# Run #3 lr = 0.0001 , emb_size = 300 , hidden_size = 128, drop_rate = 0.5\n",
        "vocab_size = len(stoi) + 1\n",
        "model = SentimentRNN(vocab_size, 300, 128, 1, 2, 0.5)\n",
        "device = torch.device('cuda' if torch.cuda.is_available() else 'cpu')\n",
        "train_rnn_network(model, train_loader, valid_loader, num_epochs=5, learning_rate=0.0001, device=device)"
      ]
    },
    {
      "cell_type": "code",
      "execution_count": null,
      "metadata": {
        "id": "CPsw6LbCFMdO",
        "outputId": "9a786610-8614-42f4-ceae-2b81125cf426"
      },
      "outputs": [
        {
          "name": "stdout",
          "output_type": "stream",
          "text": [
            "Epoch 1/5; Train Loss: 0.6008; Valid Loss: 0.4380; Train Acc: 0.8241; Valid Acc: 0.7944\n",
            "Epoch 2/5; Train Loss: 0.3981; Valid Loss: 0.4018; Train Acc: 0.8530; Valid Acc: 0.8192\n",
            "Epoch 3/5; Train Loss: 0.3551; Valid Loss: 0.3715; Train Acc: 0.8749; Valid Acc: 0.8357\n",
            "Epoch 4/5; Train Loss: 0.3264; Valid Loss: 0.3633; Train Acc: 0.8849; Valid Acc: 0.8402\n",
            "Epoch 5/5; Train Loss: 0.3042; Valid Loss: 0.3638; Train Acc: 0.8969; Valid Acc: 0.8419\n"
          ]
        },
        {
          "data": {
            "image/png": "[encoded data removed]",
            "text/plain": [
              "<Figure size 1200x500 with 2 Axes>"
            ]
          },
          "metadata": {},
          "output_type": "display_data"
        }
      ],
      "source": [
        "# TO BE COMPLETED\n",
        "# Run #4 lr = 0.0001 , emb_size = 300 , hidden_size = 256, drop_rate = 0.8\n",
        "vocab_size = len(stoi) + 1\n",
        "model = SentimentRNN(vocab_size, 300, 256, 1, 2, 0.8)\n",
        "device = torch.device('cuda' if torch.cuda.is_available() else 'cpu')\n",
        "train_rnn_network(model, train_loader, valid_loader, num_epochs=5, learning_rate=0.0001, device=device)"
      ]
    },
    {
      "cell_type": "code",
      "execution_count": null,
      "metadata": {
        "id": "qLOf3rnhFMdO",
        "outputId": "eebbb547-c6b6-468a-a4c5-5d620ddb7f63"
      },
      "outputs": [
        {
          "name": "stdout",
          "output_type": "stream",
          "text": [
            "Epoch 1/10; Train Loss: 0.4921; Valid Loss: 0.3940; Train Acc: 0.8509; Valid Acc: 0.8222\n",
            "Epoch 2/10; Train Loss: 0.3495; Valid Loss: 0.3641; Train Acc: 0.8797; Valid Acc: 0.8405\n",
            "Epoch 3/10; Train Loss: 0.3087; Valid Loss: 0.3667; Train Acc: 0.8887; Valid Acc: 0.8362\n",
            "Epoch 4/10; Train Loss: 0.2779; Valid Loss: 0.3554; Train Acc: 0.9059; Valid Acc: 0.8415\n",
            "Epoch 5/10; Train Loss: 0.2422; Valid Loss: 0.3690; Train Acc: 0.9311; Valid Acc: 0.8467\n",
            "Epoch 6/10; Train Loss: 0.2066; Valid Loss: 0.4030; Train Acc: 0.9450; Valid Acc: 0.8432\n",
            "Epoch 7/10; Train Loss: 0.1665; Valid Loss: 0.4352; Train Acc: 0.9586; Valid Acc: 0.8422\n",
            "Epoch 8/10; Train Loss: 0.1292; Valid Loss: 0.4901; Train Acc: 0.9670; Valid Acc: 0.8359\n",
            "Epoch 9/10; Train Loss: 0.1030; Valid Loss: 0.5242; Train Acc: 0.9824; Valid Acc: 0.8387\n",
            "Epoch 10/10; Train Loss: 0.0745; Valid Loss: 0.5595; Train Acc: 0.9792; Valid Acc: 0.8355\n"
          ]
        },
        {
          "data": {
            "image/png": "[encoded data removed]",
            "text/plain": [
              "<Figure size 1200x500 with 2 Axes>"
            ]
          },
          "metadata": {},
          "output_type": "display_data"
        }
      ],
      "source": [
        "# TO BE COMPLETED\n",
        "# Run #5 lr = 0.0001 , emb_size = 500 , hidden_size = 256, drop_rate = 0.5 ##More epochs##\n",
        "vocab_size = len(stoi) + 1\n",
        "model = SentimentRNN(vocab_size, 500, 256, 1, 2, 0.5)\n",
        "device = torch.device('cuda' if torch.cuda.is_available() else 'cpu')\n",
        "train_rnn_network(model, train_loader, valid_loader, num_epochs=10, learning_rate=0.0001, device=device)"
      ]
    },
    {
      "cell_type": "code",
      "execution_count": null,
      "metadata": {
        "id": "mN2t6fSzryME",
        "outputId": "1817c327-d022-4018-8c38-27ed2bfd59ea"
      },
      "outputs": [
        {
          "data": {
            "text/plain": [
              "'\\nPROVIDE YOUR ANSWER BELOW\\n\\nI choose the following hyperparameter as my tunning parameter:\\nlearning rate, emb_size , hidden_size and drop_rate\\n\\nAfter tunning process, the validation accuracy is not affected very much. The highest validation accuracy\\nis 85.%\\n\\n'"
            ]
          },
          "execution_count": 29,
          "metadata": {},
          "output_type": "execute_result"
        }
      ],
      "source": [
        "'''\n",
        "PROVIDE YOUR ANSWER BELOW\n",
        "\n",
        "I choose the following hyperparameter as my tunning parameter:\n",
        "learning rate, emb_size , hidden_size and drop_rate\n",
        "\n",
        "After tunning process, the validation accuracy is not affected very much. The highest validation accuracy\n",
        "is 85.%\n",
        "\n",
        "'''"
      ]
    },
    {
      "cell_type": "markdown",
      "metadata": {
        "id": "Gznefulsa91V"
      },
      "source": [
        "## Part 4. Evaluation [10 pt]\n",
        "\n",
        "**Important**. At this point in the assignment your test data should not have been evaluated by any of your models. The test data should be evaluated only after you have finished all the previous parts of the assignment. Once you evaluate your models on the test data you cannot change your models or else you may make hyperparameter adjustments that could lead to overfitting to the test data.\n",
        "\n",
        "### Part (i) [3pt RESULT]\n",
        "\n",
        "Report the final test accuracy of your model. Comment on how the result compares with accuracy obtained on the training and validation data. Are the results what you expected? Explain."
      ]
    },
    {
      "cell_type": "code",
      "execution_count": null,
      "metadata": {
        "id": "D5L5D-A1a91W",
        "outputId": "dcdd6679-4989-4155-83b9-f713c55388e5"
      },
      "outputs": [
        {
          "name": "stdout",
          "output_type": "stream",
          "text": [
            "Final Test Accuracy: 84.36%\n"
          ]
        }
      ],
      "source": [
        "# TO BE COMPLETED\n",
        "device = torch.device('cuda' if torch.cuda.is_available() else 'cpu')\n",
        "accuracy = get_accuracy(model, test_loader,device = device)\n",
        "print(f\"Final Test Accuracy: {accuracy * 100:.2f}%\")"
      ]
    },
    {
      "cell_type": "code",
      "execution_count": null,
      "metadata": {
        "id": "DTHWBJCu_Fyz"
      },
      "outputs": [],
      "source": [
        "'''\n",
        "PROVIDE YOUR ANSWER BELOW\n",
        "\n",
        "Train acc: 93.23%\n",
        "Valid acc: 84.72%\n",
        "Test acc: 84.36%\n",
        "\n",
        "This is a promising result but train accuacry seems a bit high. There are still a slight overfit exisit in my best model.\n",
        "\n",
        "\n",
        "'''\n"
      ]
    },
    {
      "cell_type": "markdown",
      "metadata": {
        "id": "kLvxrCP5Bwdu"
      },
      "source": [
        "### Part (ii) [3pt DISCUSSION]\n",
        "\n",
        "Look over the misclassified samples in the test data and see if you can find any patterns on where the model has difficulty with identifying the review sentiment. Provide up to 5 examples of positive and negative reviews each to support your findings."
      ]
    },
    {
      "cell_type": "code",
      "execution_count": null,
      "metadata": {
        "id": "IJt0APcBBwd5"
      },
      "outputs": [],
      "source": [
        "# TO BE COMPLETED\n",
        "\n",
        "# Convert tensor to text msg\n",
        "def tensor_to_text(tensor, stoi_reverse):\n",
        "    word_indices = tensor.tolist()\n",
        "\n",
        "    # Check if value is in the stoi_reverse keys\n",
        "    words = [stoi_reverse.get(value, '') for value in word_indices]\n",
        "\n",
        "    # Filter out empty space\n",
        "    words = [word for word in words if word]\n",
        "\n",
        "    original_text = ' '.join(words)\n",
        "\n",
        "    return original_text\n",
        "\n",
        "# Count and local misclassified data and tensor\n",
        "def analyze_misclassified(model, test_loader, device, stoi_reverse):\n",
        "    model.eval()\n",
        "\n",
        "    misclassified_positive = []\n",
        "    misclassified_negative = []\n",
        "\n",
        "    with torch.no_grad():\n",
        "        for inputs, labels in test_loader:\n",
        "            inputs, labels = inputs.to(device), labels.to(device)\n",
        "\n",
        "            outputs, _ = model(inputs, None)\n",
        "            predictions = torch.round(torch.sigmoid(outputs)).squeeze()\n",
        "\n",
        "            # Identify misclassified samples\n",
        "            misclassified_idx = (predictions != labels)\n",
        "\n",
        "            # Extract text and true labels of misclassified samples\n",
        "            misclassified_texts = [tensor_to_text(text, stoi_reverse) for text, label in zip(inputs[misclassified_idx], labels[misclassified_idx])]\n",
        "            misclassified_labels = [label.item() for label in labels[misclassified_idx]]\n",
        "            predicted_labels = [prediction.item() for prediction in predictions[misclassified_idx]]\n",
        "\n",
        "            # Print statements for debugging\n",
        "            for text, true_label, predicted_label in zip(misclassified_texts, misclassified_labels, predicted_labels):\n",
        "\n",
        "                # Group misclassified samples by true sentiment\n",
        "                misclassified_sample = {'text': text, 'true_label': true_label, 'predicted_label': predicted_label}\n",
        "\n",
        "                if true_label == 1 and predicted_label == 0:\n",
        "                    misclassified_positive.append(misclassified_sample)\n",
        "                elif true_label == 0 and predicted_label == 1:\n",
        "                    misclassified_negative.append(misclassified_sample)\n",
        "\n",
        "    return misclassified_positive, misclassified_negative"
      ]
    },
    {
      "cell_type": "code",
      "execution_count": null,
      "metadata": {
        "id": "nS675JEZFMdT",
        "outputId": "5ac0de7c-4135-47b1-fb40-60f81e6c5d02"
      },
      "outputs": [
        {
          "name": "stdout",
          "output_type": "stream",
          "text": [
            "Total Misclassified Positive Reviews: 879\n",
            "Total Misclassified Negative Reviews: 685\n",
            "\n",
            "Misclassified Positive Reviews:\n",
            "Example 1\n",
            "True Label: 1.0, Predicted Label: 0.0\n",
            "Text: movie may great watched last night feel give opinion read book first book much better movie disappointed film watch human dont read book hand book good much love could still enjoy seeing movie make average reading book every days read human gets one top ten ever written\n",
            "\n",
            "Example 2\n",
            "True Label: 1.0, Predicted Label: 0.0\n",
            "Text: without doubt one horror films ever really cannot believe didnt much released especially main time usual style suspense plot movie black comedy great plot never good movie difficult enjoy film br plot girl working set horror film made series events finds moviebr br one best things film lack seems every horror film ever made main character cannot make something movie br director seems well even opening scene well fairly movie br acting times whole film hold together couple excellent scenes put right little questions film going br action would recommend viewer looking something little different usual\n",
            "\n",
            "Example 3\n",
            "True Label: 1.0, Predicted Label: 0.0\n",
            "Text: throughout strange film particularly time every years american movies shown american son brother br movies like best years lives end time sweet yet year film shows people rather worse viewer one message film br br even good plenty time hands time getting whether even police murder br says things like dont know wife wants make go war havent seen two years care really maybe well make go maybe br br another shown years away would like see wife br later police spent home without wife behind seems question whatever wife fine indeed guess br police played robert young trying murder case night question br br care dont really care anything ive done long guess br br man shows says im man like interested says thats im husband id like turned br says thats would want goes another series police ask end movie havent one characters history movies br br man girlfriend talking four girlfriend leaves change right back another problem yet man doesnt leave girlfriend simply instead follows one leaves go another man hes problems home feels strange br dance girl would like take real dance maybe yet dance gives home br br people late always come br br robert kills hes tries get home reason murder tells mean br br movie always quite act total complete characters movie ive ever br yet movie simply idea people going act new bizarre character going without anyone thinking strange least br acting ever seen robert young robert oscar paul actors id never heard br id never heard movie complete ive one want see really strange look away youve idea next\n",
            "\n",
            "Example 4\n",
            "True Label: 1.0, Predicted Label: 0.0\n",
            "Text: review film must make rather make film anyone already read previous reviews may know ive always sense giving high america film love mind might come br simple fact probably one favorite actors dont start getting crazy yet let means think hes greatest actor world clearly certainly would say acting probably least however human brings action average guy laughs hero wants takes lot opinion able bring character especially movies hes worked far quite characters hes greatest actor personal br cant say however films however much acting would films leave something quite terrible hes years isnt due acting rather bad br mind say film one best films probably greatest performance mentioned brings role seriously director writers actors material far action fact would call action movie instead serious drama takes material seriously showing real family doesnt fit white old family new one wonderful final role attempt also cant real family one hes always known wonderful society wonderful character br nothing else films like unfortunately didnt last wait career moves though still long way go hes enough actor able perhaps make hell roles br however first filmbr br\n",
            "\n",
            "Example 5\n",
            "True Label: 1.0, Predicted Label: 0.0\n",
            "Text: saw five first movie id ever seen recently dvd watched second time believe probably one movies different white good guys black bad guys even japanese bad guys remember dialog along lines bad guy get away go bad time wasnt guess im used even genre one see\n",
            "\n",
            "\n",
            "Misclassified Negative Reviews:\n",
            "Example 1\n",
            "True Label: 0.0, Predicted Label: 1.0\n",
            "Text: yet director lee actor violent action flick fact probably film quite man death wish ten however doesnt make good film evil men ultimately take away film would little else br story lives life island come doctor around various american throughout film especially beginning scenes show us piece work br actually quite serious go american made simply evil men isnt really poor people giving away sequences make viewer feel like rather like someone viewing movies script full dialogue including evil men fails ideas entertainment us enjoy sorry thats wrong\n",
            "\n",
            "Example 2\n",
            "True Label: 0.0, Predicted Label: 1.0\n",
            "Text: watching film im sure take theres reason writer work even act well cant felt story really film due director many film add amazing portrayal woman british actress anything view makes drama great story felt film didnt everything somewhat easy characters real getting wanted watch film brilliant performance\n",
            "\n",
            "Example 3\n",
            "True Label: 0.0, Predicted Label: 1.0\n",
            "Text: could see final fast good later sit back ending rather van across high highly van would made little films always take place case good life anything shows lack leaving dance\n",
            "\n",
            "Example 4\n",
            "True Label: 0.0, Predicted Label: 1.0\n",
            "Text: screenplay bad action sequences really liked think good better movies liked also actors\n",
            "\n",
            "Example 5\n",
            "True Label: 0.0, Predicted Label: 1.0\n",
            "Text: young tom wants mr gay works father jack get mr named becomes br br film get help havent seen plot especially like humor remember people get act like br daughter david\n",
            "\n"
          ]
        }
      ],
      "source": [
        "device = torch.device('cuda' if torch.cuda.is_available() else 'cpu')\n",
        "\n",
        "# Get the reverse mapping of stoi for converting indices back to words\n",
        "stoi_reverse = {i + 1: ch for i, ch in enumerate(stoi)}\n",
        "\n",
        "misclassified_positive, misclassified_negative = analyze_misclassified(model, test_loader, device, stoi_reverse)\n",
        "\n",
        "# Print the total number of misclassified samples\n",
        "print(f\"Total Misclassified Positive Reviews: {len(misclassified_positive)}\")\n",
        "print(f\"Total Misclassified Negative Reviews: {len(misclassified_negative)}\")\n",
        "\n",
        "# Print 5 examples of misclassified positive reviews\n",
        "print(\"\\nMisclassified Positive Reviews:\")\n",
        "for i, sample in enumerate(misclassified_positive[:min(5, len(misclassified_positive))]):\n",
        "    print(f\"Example {i + 1}\")\n",
        "    print(f\"True Label: {sample['true_label']}, Predicted Label: {sample['predicted_label']}\")\n",
        "    print(f\"Text: {sample['text']}\\n\")  # Add newline after printing text\n",
        "\n",
        "# Print 5 examples of misclassified negative reviews\n",
        "print(\"\\nMisclassified Negative Reviews:\")\n",
        "for i, sample in enumerate(misclassified_negative[:min(5, len(misclassified_negative))]):\n",
        "    print(f\"Example {i + 1}\")\n",
        "    print(f\"True Label: {sample['true_label']}, Predicted Label: {sample['predicted_label']}\")\n",
        "    print(f\"Text: {sample['text']}\\n\")  # Add newline after printing text"
      ]
    },
    {
      "cell_type": "code",
      "execution_count": null,
      "metadata": {
        "id": "Fyr16MISBwd5"
      },
      "outputs": [],
      "source": [
        "'''\n",
        "PROVIDE YOUR ANSWER BELOW\n",
        "\n",
        "By analyzing the misclassified samples, it appears that most of those samples is not interperable because\n",
        "we create our own embedding space (stoi) with only 1000 words. This is too small for coverting most of\n",
        "the reviews to integers. A more various embedding like gloves (more than 10k words) should be implemented\n",
        "if we want to improve this model.\n",
        "\n",
        "'''\n"
      ]
    },
    {
      "cell_type": "markdown",
      "metadata": {
        "id": "0jGHtQFpa91b"
      },
      "source": [
        "### Part (iii) [2pt RESULT]\n",
        "\n",
        "What is your model's prediction of the **probability** that\n",
        "the review message provided below is a positive review?\n",
        "\n",
        "Hint: You will need to apply the same processing on the review as was done on the the train, val, and test data sets."
      ]
    },
    {
      "cell_type": "code",
      "execution_count": null,
      "metadata": {
        "id": "h_2nSJq8a91b"
      },
      "outputs": [],
      "source": [
        "review = \"\"\" Man.... I wish I loved this movie more than I did. Don't get me wrong,\n",
        "it's a solid action movie with jaw-dropping stunts (some of the best in the series),\n",
        "but as a Mission: Impossible movie, it felt like a small step backward for the franchise.\n",
        "Fallout had mind-blowing action sequences and stunt work, along with developing Ethan's\n",
        "relationship with Ilsa, providing closure with Julia, showing the lengths Ethan would\n",
        "go to protect those closest to him, and battling an imposing villain. Dead Reckoning:\n",
        "Part One stretches the movie across two films only to seemingly showcase action\n",
        "spectacle after action spectacle while sacrificing character development.\n",
        "Characters I have grown to love over a decade of films felt sidelined, ignored,\n",
        "or wasted. Hayley Atwell's new character chewed up most of the screen time, and\n",
        "while she was fantastic, I wanted to see more of the original team. The new villain\n",
        "had an inconsistent ability that confused more than intimidated. There were some\n",
        "important emotional moments that I just didn't feel the weight of when I definitely\n",
        "should have. Part Two might tie everything together and make me enjoy Part One\n",
        "more in retrospect, but unfortunately, I left wanting more from this one. \"\"\"\n",
        "\n"
      ]
    },
    {
      "cell_type": "code",
      "execution_count": null,
      "metadata": {
        "id": "CB-82EtwBmKb",
        "outputId": "c4c19b7f-3ef0-4d8e-e5de-0f36e7099e3b"
      },
      "outputs": [
        {
          "name": "stdout",
          "output_type": "stream",
          "text": [
            "Probability of a positive review: 88.90%\n"
          ]
        }
      ],
      "source": [
        "device = torch.device('cuda' if torch.cuda.is_available() else 'cpu')\n",
        "model.to(device)\n",
        "\n",
        "# Preprocess the review\n",
        "review_tokenize = [stoi[word] for word in preprocess_sentence(review) if word in stoi]\n",
        "review_padded = padding_([review_tokenize], 500)\n",
        "review_tensor = torch.tensor(review_padded, dtype=torch.long).to(device)\n",
        "\n",
        "# Initialize the hidden state\n",
        "hidden = (torch.zeros(2, 1, 256).to(device), torch.zeros(2, 1, 256).to(device))\n",
        "\n",
        "model.eval()\n",
        "with torch.no_grad():\n",
        "    # Make the prediction\n",
        "    output, _ = model(review_tensor, hidden)\n",
        "    prediction = torch.sigmoid(output).item()\n",
        "\n",
        "print(f\"Probability of a positive review: {prediction * 100:.2f}%\")"
      ]
    },
    {
      "cell_type": "markdown",
      "metadata": {
        "id": "QD1zgYJpa91f"
      },
      "source": [
        "### Part (iv) [2pt DISCUSSION]\n",
        "\n",
        "Do you think that detecting positive and negative reviews is an easy or difficult task?\n",
        "\n",
        "Since machine learning models are expensive to train and deploy, it is very\n",
        "important to compare our models against baseline models: a simple\n",
        "model that is easy to build and inexpensive to run that we can compare our\n",
        "recurrent neural network model against.\n",
        "\n",
        "Explain how you might build a simple baseline model. This baseline model\n",
        "can be a simple neural network (with very few weights), a hand-written algorithm,\n",
        "or any other strategy that is easy to build and test.\n",
        "\n",
        "**Do not actually build a baseline model. Instead, provide instructions on\n",
        "how to build it.**"
      ]
    },
    {
      "cell_type": "code",
      "execution_count": null,
      "metadata": {
        "id": "7dwiiZYdvz34"
      },
      "outputs": [],
      "source": [
        "'''\n",
        "PROVIDE YOUR ANSWER BELOW\n",
        "\n",
        "We can use the bag of words approach to build a baseline model\n",
        "\n",
        "1. Data Processing:\n",
        "    Represent each review as a bag of words, ignoring grammar and word order.\n",
        "    Apply tokenization to break down reviews into individual words.\n",
        "\n",
        "2.Feature Extraction:\n",
        "    Create a vocabulary (soti): Collect a list of unique words across all reviews.\n",
        "    For each review, create a feature vector indicating the presence or absence of each\n",
        "    word in the vocabulary.\n",
        "\n",
        "3.Model Architecture:\n",
        "    Use a generally simple linear model such as Logistic Regression.\n",
        "    Assign weights to each word in soti to predict the sentiment by on the sumation of weight.\n",
        "\n",
        "4.Training Process:\n",
        "    Split the dataset into training, validation  and test sets.\n",
        "    Train the Logistic Regression model on the training set using the feature vectors and\n",
        "    corresponding labels. Then validate the model with validation sets.\n",
        "\n",
        "5.Evaluation:\n",
        "    Evaluate the model on the test set using metrics such as confusion matrix and F1 score.\n",
        "'''"
      ]
    },
    {
      "cell_type": "markdown",
      "metadata": {
        "id": "zIR3Q5l0v1HP"
      },
      "source": [
        "# PART B - Transfer Learning\n",
        "\n",
        "For many natural language processing tasks, it is generally not a good idea to train a very large deep neural network model from scratch due to enormous compute requirements and lack of sufficient amounts of training data. Instead, you should always try to take advantage of an existing model that performs similar tasks as the one you need to solve.\n",
        "\n",
        "In this part of the assignment we will be using pretrained models to improve the performance on identifying positive and negative reviews. There are several pretrained models that are available to us, here we will use a pretrained BERT model that comes with the hugging face transformer library.\n",
        "\n",
        "Provided below is sample code to get you started. For more details please visit the hugging face tutorial on using pretrained models using PyTorch: https://huggingface.co/docs/transformers/training\n",
        "\n",
        "#### Sample Code"
      ]
    },
    {
      "cell_type": "code",
      "execution_count": null,
      "metadata": {
        "id": "5R-_BQyiAMoo",
        "colab": {
          "base_uri": "https://localhost:8080/"
        },
        "outputId": "f3dcf00c-4aed-45c3-a898-cf2cc926b22d"
      },
      "outputs": [
        {
          "output_type": "stream",
          "name": "stdout",
          "text": [
            "Requirement already satisfied: transformers in /usr/local/lib/python3.10/dist-packages (4.35.2)\n",
            "Requirement already satisfied: filelock in /usr/local/lib/python3.10/dist-packages (from transformers) (3.13.1)\n",
            "Requirement already satisfied: huggingface-hub<1.0,>=0.16.4 in /usr/local/lib/python3.10/dist-packages (from transformers) (0.19.4)\n",
            "Requirement already satisfied: numpy>=1.17 in /usr/local/lib/python3.10/dist-packages (from transformers) (1.23.5)\n",
            "Requirement already satisfied: packaging>=20.0 in /usr/local/lib/python3.10/dist-packages (from transformers) (23.2)\n",
            "Requirement already satisfied: pyyaml>=5.1 in /usr/local/lib/python3.10/dist-packages (from transformers) (6.0.1)\n",
            "Requirement already satisfied: regex!=2019.12.17 in /usr/local/lib/python3.10/dist-packages (from transformers) (2023.6.3)\n",
            "Requirement already satisfied: requests in /usr/local/lib/python3.10/dist-packages (from transformers) (2.31.0)\n",
            "Requirement already satisfied: tokenizers<0.19,>=0.14 in /usr/local/lib/python3.10/dist-packages (from transformers) (0.15.0)\n",
            "Requirement already satisfied: safetensors>=0.3.1 in /usr/local/lib/python3.10/dist-packages (from transformers) (0.4.0)\n",
            "Requirement already satisfied: tqdm>=4.27 in /usr/local/lib/python3.10/dist-packages (from transformers) (4.66.1)\n",
            "Requirement already satisfied: fsspec>=2023.5.0 in /usr/local/lib/python3.10/dist-packages (from huggingface-hub<1.0,>=0.16.4->transformers) (2023.6.0)\n",
            "Requirement already satisfied: typing-extensions>=3.7.4.3 in /usr/local/lib/python3.10/dist-packages (from huggingface-hub<1.0,>=0.16.4->transformers) (4.5.0)\n",
            "Requirement already satisfied: charset-normalizer<4,>=2 in /usr/local/lib/python3.10/dist-packages (from requests->transformers) (3.3.2)\n",
            "Requirement already satisfied: idna<4,>=2.5 in /usr/local/lib/python3.10/dist-packages (from requests->transformers) (3.4)\n",
            "Requirement already satisfied: urllib3<3,>=1.21.1 in /usr/local/lib/python3.10/dist-packages (from requests->transformers) (2.0.7)\n",
            "Requirement already satisfied: certifi>=2017.4.17 in /usr/local/lib/python3.10/dist-packages (from requests->transformers) (2023.7.22)\n"
          ]
        }
      ],
      "source": [
        "# install relevant libraries\n",
        "!pip install transformers"
      ]
    },
    {
      "cell_type": "code",
      "execution_count": null,
      "metadata": {
        "id": "316Xs5WBv0kg"
      },
      "outputs": [],
      "source": [
        "# load relevant libraries\n",
        "import transformers\n",
        "from transformers import BertModel, BertTokenizer, AdamW, get_linear_schedule_with_warmup\n",
        "\n",
        "PRE_TRAINED_MODEL_NAME = 'bert-base-cased'\n",
        "\n",
        "tokenizer = BertTokenizer.from_pretrained(PRE_TRAINED_MODEL_NAME)\n",
        "bert_model = BertModel.from_pretrained(PRE_TRAINED_MODEL_NAME)\n"
      ]
    },
    {
      "cell_type": "code",
      "execution_count": null,
      "metadata": {
        "id": "_20pdf-tYySb"
      },
      "outputs": [],
      "source": [
        "sample_txt = 'I want to learn how to do sentiment analysis using BERT and tokenizer.'\n",
        "\n",
        "encoding = tokenizer.encode_plus(\n",
        "  sample_txt,\n",
        "  add_special_tokens=True, # Add '[CLS]' and '[SEP]'\n",
        "  return_token_type_ids=False,\n",
        "  padding= 'max_length',\n",
        "  max_length=32,\n",
        "  return_attention_mask=True,\n",
        "  return_tensors='pt',  # Return PyTorch tensors\n",
        "  truncation = True\n",
        ")"
      ]
    },
    {
      "cell_type": "code",
      "execution_count": null,
      "metadata": {
        "id": "O1B4RiOOcbGY",
        "outputId": "9c8c8bfe-9ab9-42d6-e220-a349798eed65",
        "colab": {
          "base_uri": "https://localhost:8080/"
        }
      },
      "outputs": [
        {
          "output_type": "execute_result",
          "data": {
            "text/plain": [
              "tensor([[  101,   146,  1328,  1106,  3858,  1293,  1106,  1202, 17024,  3622,\n",
              "          1606,   139,  9637,  1942,  1105, 22559, 17260,   119,   102,     0,\n",
              "             0,     0,     0,     0,     0,     0,     0,     0,     0,     0,\n",
              "             0,     0]])"
            ]
          },
          "metadata": {},
          "execution_count": 5
        }
      ],
      "source": [
        "encoding['input_ids']"
      ]
    },
    {
      "cell_type": "code",
      "execution_count": null,
      "metadata": {
        "id": "7sZ1j9PfceFF",
        "outputId": "5861adc2-708b-43c0-c591-34f5c7fa1755",
        "colab": {
          "base_uri": "https://localhost:8080/"
        }
      },
      "outputs": [
        {
          "output_type": "execute_result",
          "data": {
            "text/plain": [
              "tensor([[1, 1, 1, 1, 1, 1, 1, 1, 1, 1, 1, 1, 1, 1, 1, 1, 1, 1, 1, 0, 0, 0, 0, 0,\n",
              "         0, 0, 0, 0, 0, 0, 0, 0]])"
            ]
          },
          "metadata": {},
          "execution_count": 6
        }
      ],
      "source": [
        "encoding['attention_mask']"
      ]
    },
    {
      "cell_type": "code",
      "execution_count": null,
      "metadata": {
        "id": "dZ458Q_uYzxu"
      },
      "outputs": [],
      "source": [
        "hidden_states = bert_model(input_ids=encoding['input_ids'],\n",
        "                           attention_mask=encoding['attention_mask'])[0]\n",
        "pooled_output = bert_model(input_ids=encoding['input_ids'],\n",
        "                           attention_mask=encoding['attention_mask'])[1]"
      ]
    },
    {
      "cell_type": "code",
      "execution_count": null,
      "metadata": {
        "id": "GqwUAEIzZNBO",
        "outputId": "7422e6ce-64e8-48fb-ba1a-ee2b83e13aaa",
        "colab": {
          "base_uri": "https://localhost:8080/"
        }
      },
      "outputs": [
        {
          "output_type": "stream",
          "name": "stdout",
          "text": [
            "768\n",
            "torch.Size([1, 32, 768])\n",
            "torch.Size([1, 768])\n"
          ]
        }
      ],
      "source": [
        "hidden_size = bert_model.config.hidden_size\n",
        "\n",
        "print(hidden_size)\n",
        "print(hidden_states.shape)\n",
        "print(pooled_output.shape)\n"
      ]
    },
    {
      "cell_type": "markdown",
      "metadata": {
        "id": "7HCaqLDaZo2l"
      },
      "source": [
        "In the sample code provided we loaded a short text sequence, tokenized it using the same tokenization that was used in the pretrained BERT model, and fed the tokenized input into the BERT model to obtain the embeddings.\n",
        "\n",
        "The model output consists of two forms of embeddings:\n",
        "- **hidden_states** are the final layer of outputs that has a shape sequence_length x embeddings, much like the hidden states of a recurrent neural network\n",
        "- **pooled_output** is the result of applying max pooling on the hidden states to effectively collapse the sequence dimenension and ensure the same output size for any given sequence before feeding into the classification stage\n",
        "\n",
        "Note that you can preprocess all of the data prior to training a classifier stage for sentiment analysis to help speed up the training process. This is no different from the process we applied in an earlier assignment using AlexNet and image data."
      ]
    },
    {
      "cell_type": "markdown",
      "metadata": {
        "id": "4le9bqnuc2JZ"
      },
      "source": [
        "## Part 1. Data Loading [5 pt]\n",
        "\n",
        "We will be using the same \"IMDB Movie Review Dataset\" that we used earlier. Reload the data and complete Part B of the assignment. You should be able to complete part B independently from Part A.\n",
        "\n",
        "### Part (i) [1pt EXPLORATORY]\n",
        "\n",
        "Provided below is a DataLoader for your training and test datasets so you can iterate over batches of data. Run the DataLoader to create your training, validation, and test data."
      ]
    },
    {
      "cell_type": "code",
      "execution_count": null,
      "metadata": {
        "id": "whZkn5wbSqr0"
      },
      "outputs": [],
      "source": [
        "from torch.utils.data import Dataset, DataLoader\n",
        "\n",
        "class MovieReviewDataset(Dataset):\n",
        "\n",
        "  def __init__(self, reviews, targets, tokenizer, max_len):\n",
        "    self.reviews = reviews\n",
        "    self.targets = targets\n",
        "    self.tokenizer = tokenizer\n",
        "    self.max_len = max_len\n",
        "\n",
        "  def __len__(self):\n",
        "    return len(self.reviews)\n",
        "\n",
        "  def __getitem__(self, item):\n",
        "    review = str(self.reviews[item])\n",
        "    target = self.targets[item]\n",
        "\n",
        "    encoding = self.tokenizer.encode_plus(\n",
        "      review,\n",
        "      add_special_tokens=True,\n",
        "      max_length=self.max_len,\n",
        "      return_token_type_ids=False,\n",
        "      pad_to_max_length=True,\n",
        "      return_attention_mask=True,\n",
        "      return_tensors='pt',\n",
        "      truncation = True\n",
        "    )\n",
        "\n",
        "    return {\n",
        "      'review_text': review,\n",
        "      'input_ids': encoding['input_ids'].flatten(),\n",
        "      'attention_mask': encoding['attention_mask'].flatten(),\n",
        "      'targets': torch.tensor(target, dtype=torch.long)\n",
        "    }"
      ]
    },
    {
      "cell_type": "code",
      "execution_count": null,
      "metadata": {
        "colab": {
          "base_uri": "https://localhost:8080/"
        },
        "id": "27_5roCZeI8T",
        "outputId": "9f0e0647-ec87-4f05-8051-b386267f9657"
      },
      "outputs": [
        {
          "output_type": "stream",
          "name": "stdout",
          "text": [
            "Train set size: 30000\n",
            "Validation set size: 10000\n",
            "Test set size: 10000\n"
          ]
        },
        {
          "output_type": "stream",
          "name": "stderr",
          "text": [
            "/usr/local/lib/python3.10/dist-packages/torch/utils/data/dataloader.py:557: UserWarning: This DataLoader will create 4 worker processes in total. Our suggested max number of worker in current system is 2, which is smaller than what this DataLoader is going to create. Please be aware that excessive worker creation might get DataLoader running slow or even freeze, lower the worker number to avoid potential slowness/freeze if necessary.\n",
            "  warnings.warn(_create_warning_msg(\n"
          ]
        }
      ],
      "source": [
        "# prepare data loaders\n",
        "MAX_LEN = 400\n",
        "BATCH_SIZE = 16\n",
        "\n",
        "# load dataset\n",
        "df = pd.read_csv(filepath_or_buffer='/content/drive/MyDrive/Colab Notebooks/MIE1517/IMDB Dataset.csv')\n",
        "# Encode all sentiment labels to either 1 or 0\n",
        "df['sentiment'] = df['sentiment'].map({'positive': 1, 'negative': 0})\n",
        "\n",
        "# Split the data into train, valid, and test sets\n",
        "df_train, temp = train_test_split(df, test_size=0.4, random_state=0)\n",
        "df_valid, df_test = train_test_split(temp, test_size=0.5, random_state=0)\n",
        "\n",
        "# Print shape of all data\n",
        "print(f\"Train set size: {len(df_train)}\")\n",
        "print(f\"Validation set size: {len(df_valid)}\")\n",
        "print(f\"Test set size: {len(df_test)}\")\n",
        "\n",
        "#training data\n",
        "train_data = MovieReviewDataset(reviews=df_train['review'].to_numpy(),\n",
        "                                targets=df_train['sentiment'].to_numpy(),\n",
        "                                tokenizer=tokenizer,\n",
        "                                max_len=MAX_LEN)\n",
        "\n",
        "train_data_loader = DataLoader(train_data, batch_size=BATCH_SIZE, num_workers=4) #modify num_works as needed\n",
        "\n",
        "#validation data\n",
        "\n",
        "# TO BE COMPLETED\n",
        "valid_data = MovieReviewDataset(reviews=df_valid['review'].to_numpy(),\n",
        "                                targets=df_valid['sentiment'].to_numpy(),\n",
        "                                tokenizer=tokenizer,\n",
        "                                max_len=MAX_LEN)\n",
        "\n",
        "valid_data_loader = DataLoader(valid_data, batch_size=BATCH_SIZE, num_workers=4)\n",
        "\n",
        "#test data\n",
        "\n",
        "# TO BE COMPLETED\n",
        "test_data = MovieReviewDataset(reviews=df_test['review'].to_numpy(),\n",
        "                               targets=df_test['sentiment'].to_numpy(),\n",
        "                               tokenizer=tokenizer,\n",
        "                               max_len=MAX_LEN)\n",
        "\n",
        "test_data_loader = DataLoader(test_data, batch_size=BATCH_SIZE, num_workers=4)\n",
        "\n",
        "\n"
      ]
    },
    {
      "cell_type": "code",
      "source": [
        "# Load saved embeddings and labels\n",
        "\n",
        "# load dataset\n",
        "df = pd.read_csv(filepath_or_buffer='/content/drive/MyDrive/Colab Notebooks/MIE1517/IMDB Dataset.csv')\n",
        "# Encode all sentiment labels to either 1 or 0\n",
        "df['sentiment'] = df['sentiment'].map({'positive': 1, 'negative': 0})\n",
        "# Split the data into train, valid, and test sets\n",
        "df_train, temp = train_test_split(df, test_size=0.4, random_state=0)\n",
        "df_valid, df_test = train_test_split(temp, test_size=0.5, random_state=0)\n",
        "\n",
        "file_path_train = '/content/drive/MyDrive/Colab Notebooks/MIE1517/bert_train_embeddings.npy'\n",
        "file_path_valid = '/content/drive/MyDrive/Colab Notebooks/MIE1517/bert_val_embeddings.npy'\n",
        "file_path_test = '/content/drive/MyDrive/Colab Notebooks/MIE1517/bert_test_embeddings.npy'\n",
        "\n",
        "# Load embeddings and labels\n",
        "try_train_embeddings = np.load(file_path_train)\n",
        "try_train_labels = df_train['sentiment'].values.squeeze()\n",
        "\n",
        "try_valid_embeddings = np.load(file_path_valid)\n",
        "try_valid_labels = df_valid['sentiment'].values.squeeze()\n",
        "\n",
        "try_test_embeddings = np.load(file_path_test)\n",
        "try_test_labels = df_test['sentiment'].values.squeeze()\n",
        "\n",
        "try_train_embeddings_tensor = torch.tensor(try_train_embeddings, dtype=torch.float32)\n",
        "try_train_labels_tensor = torch.tensor(try_train_labels, dtype=torch.long)\n",
        "try_valid_embeddings_tensor = torch.tensor(try_valid_embeddings, dtype=torch.float32)\n",
        "try_valid_labels_tensor = torch.tensor(try_valid_labels, dtype=torch.long)\n",
        "try_test_embeddings_tensor = torch.tensor(try_test_embeddings, dtype=torch.float32)\n",
        "try_test_labels_tensor = torch.tensor(try_test_labels, dtype=torch.long)\n",
        "\n",
        "batch_size = 64 #Batch size\n",
        "\n",
        "try_train_dataset = TensorDataset(try_train_embeddings_tensor, try_train_labels_tensor)\n",
        "try_train_loader = DataLoader(try_train_dataset, batch_size=batch_size, shuffle=True)\n",
        "try_valid_dataset = TensorDataset(try_valid_embeddings_tensor, try_valid_labels_tensor)\n",
        "try_valid_loader = DataLoader(try_valid_dataset, batch_size=batch_size, shuffle=False)\n",
        "try_test_dataset = TensorDataset(try_test_embeddings_tensor, try_test_labels_tensor)\n",
        "try_test_loader = DataLoader(try_test_dataset, batch_size=batch_size, shuffle=False)"
      ],
      "metadata": {
        "id": "kupOkzLU7gW3"
      },
      "execution_count": null,
      "outputs": []
    },
    {
      "cell_type": "code",
      "source": [
        "bert_model = BertModel.from_pretrained('bert-base-cased')\n",
        "bert_model.eval()\n",
        "\n",
        "# Function to save bert embeddings\n",
        "def save_embeddings(model, dataloader, embeded):\n",
        "    device = torch.device(\"cuda\" if torch.cuda.is_available() else \"cpu\")\n",
        "    model = model.to(device)\n",
        "    model.eval()\n",
        "    embeddings = []\n",
        "\n",
        "    with torch.no_grad():\n",
        "        for batch in dataloader:\n",
        "            input_ids = batch['input_ids'].to(device)\n",
        "            attention_mask = batch['attention_mask'].to(device)\n",
        "\n",
        "            outputs = model(input_ids=input_ids, attention_mask=attention_mask)\n",
        "            pooled_output = outputs.pooler_output\n",
        "            embeddings.append(pooled_output.cpu().numpy())\n",
        "\n",
        "    embeddings = np.concatenate(embeddings, axis=0)\n",
        "    np.save(embeded, embeddings)\n",
        "\n",
        "# Save embeddings without allowing pickling\n",
        "save_embeddings(bert_model, train_data_loader, 'bert_train_embeddings1.npy')\n",
        "save_embeddings(bert_model, valid_data_loader, 'bert_val_embeddings1.npy')\n",
        "save_embeddings(bert_model, test_data_loader, 'bert_test_embeddings1.npy')"
      ],
      "metadata": {
        "id": "qd2FMOLRxSS3"
      },
      "execution_count": null,
      "outputs": []
    },
    {
      "cell_type": "markdown",
      "metadata": {
        "id": "g0ymyMvzfdVv"
      },
      "source": [
        "### Part (ii) [1pt EXPLORATORY]\n",
        "\n",
        "Use the **train_data_loader** to load one sample. What are the different attributes provided with the sample and how are they used?"
      ]
    },
    {
      "cell_type": "code",
      "execution_count": null,
      "metadata": {
        "id": "UgdwGNtik1ZR",
        "colab": {
          "base_uri": "https://localhost:8080/",
          "height": 248
        },
        "outputId": "bbefefe4-1553-43a9-d361-c16673671a1b"
      },
      "outputs": [
        {
          "output_type": "error",
          "ename": "NameError",
          "evalue": "ignored",
          "traceback": [
            "\u001b[0;31m---------------------------------------------------------------------------\u001b[0m",
            "\u001b[0;31mNameError\u001b[0m                                 Traceback (most recent call last)",
            "\u001b[0;32m<ipython-input-12-557bd6cfdaff>\u001b[0m in \u001b[0;36m<cell line: 4>\u001b[0;34m()\u001b[0m\n\u001b[1;32m      2\u001b[0m \u001b[0;34m\u001b[0m\u001b[0m\n\u001b[1;32m      3\u001b[0m \u001b[0;31m# Iterate through the data loader to get one batch\u001b[0m\u001b[0;34m\u001b[0m\u001b[0;34m\u001b[0m\u001b[0m\n\u001b[0;32m----> 4\u001b[0;31m \u001b[0;32mfor\u001b[0m \u001b[0mbatch\u001b[0m \u001b[0;32min\u001b[0m \u001b[0mtrain_data_loader\u001b[0m\u001b[0;34m:\u001b[0m\u001b[0;34m\u001b[0m\u001b[0;34m\u001b[0m\u001b[0m\n\u001b[0m\u001b[1;32m      5\u001b[0m     \u001b[0msample\u001b[0m \u001b[0;34m=\u001b[0m \u001b[0mbatch\u001b[0m\u001b[0;34m\u001b[0m\u001b[0;34m\u001b[0m\u001b[0m\n\u001b[1;32m      6\u001b[0m     \u001b[0;32mbreak\u001b[0m  \u001b[0;31m# Break after the first batch to get only one sample\u001b[0m\u001b[0;34m\u001b[0m\u001b[0;34m\u001b[0m\u001b[0m\n",
            "\u001b[0;31mNameError\u001b[0m: name 'train_data_loader' is not defined"
          ]
        }
      ],
      "source": [
        "# TO BE COMPLETED\n",
        "\n",
        "# Pick one batch from dataloader\n",
        "for batch in train_data_loader:\n",
        "    sample = batch\n",
        "    break  # Break after the first batch to get only one sample\n",
        "\n",
        "# Print out the attributes of the sample\n",
        "print(\"Sample keys:\", sample.keys())\n",
        "\n",
        "# Access individual attributes\n",
        "reviews = sample['input_ids']\n",
        "targets = sample['targets']\n",
        "attention_mask = sample['attention_mask']\n",
        "\n",
        "# Print the shapes of the tensors\n",
        "print(\"Reviews shape:\", reviews.shape)\n",
        "print(\"Targets shape:\", targets.shape)\n",
        "print(\"Attention Mask shape:\", attention_mask.shape)\n"
      ]
    },
    {
      "cell_type": "code",
      "execution_count": null,
      "metadata": {
        "id": "OOVKM8kPdPwC"
      },
      "outputs": [],
      "source": [
        "'''\n",
        "PROVIDE YOUR ANSWER BELOW\n",
        "There are three attributes asscioate with the sample which are input_ids , targets and attention_mask.\n",
        "Input_ids is used to tokenized input sequence and convert them into numerical representations.\n",
        "Attention_mask is a tensor mask padding tokens to indicate the position of the actual value.\n",
        "Targets is the sentiment labels.\n",
        "'''"
      ]
    },
    {
      "cell_type": "markdown",
      "metadata": {
        "id": "GXQt2HiGfh4p"
      },
      "source": [
        "### Part (iii) [1pt EXPLORATORY]\n",
        "\n",
        "Determine the range of values for the tokens in the training data. How are the tokens obtained?\n",
        "\n",
        "Hint: You can apply your intuition here, or do some additional research to find how the \"bert-base-cased\" tokenization is done."
      ]
    },
    {
      "cell_type": "code",
      "execution_count": null,
      "metadata": {
        "colab": {
          "base_uri": "https://localhost:8080/"
        },
        "id": "6cVEH5YhkYUQ",
        "outputId": "b3c5c1c8-4405-4e04-d440-1e68c2898281"
      },
      "outputs": [
        {
          "output_type": "stream",
          "name": "stdout",
          "text": [
            "Minimum Token ID: 0\n",
            "Maximum Token ID: 28995\n"
          ]
        }
      ],
      "source": [
        "# TO BE COMPLETED\n",
        "\n",
        "# Get the vocabulary\n",
        "vocab = tokenizer.get_vocab()\n",
        "\n",
        "# Find the minimum and maximum token IDs\n",
        "min_token_id = min(vocab.values())\n",
        "max_token_id = max(vocab.values())\n",
        "\n",
        "print(\"Minimum Token ID:\", min_token_id)\n",
        "print(\"Maximum Token ID:\", max_token_id)\n"
      ]
    },
    {
      "cell_type": "code",
      "execution_count": null,
      "metadata": {
        "id": "Im2KNoOPdYHU"
      },
      "outputs": [],
      "source": [
        "'''\n",
        "PROVIDE YOUR ANSWER BELOW\n",
        "In the process of \"bert-base-cased\" tokenization. Word is break into small pieces for example, enjoying\n",
        "will be break into enjoy and ..ing. Each sub-word picece will have an unique integer to be its id.\n",
        "In addition, there are different id sets for tokens like CLS , SEP and MASK.\n",
        "'''"
      ]
    },
    {
      "cell_type": "markdown",
      "metadata": {
        "id": "6CYKglzbfTmw"
      },
      "source": [
        "### Part (iv) [1pt EXPLORATORY]\n",
        "\n",
        "Generate histograms of all the token values in the training data. Repeat for the validation and test data. What are the top 5 occuring tokens in the training_dataset? What do these tokens represent?"
      ]
    },
    {
      "cell_type": "code",
      "execution_count": null,
      "metadata": {
        "id": "HTZdkR7ukhRg"
      },
      "outputs": [],
      "source": [
        "# TO BE COMPLETED\n",
        "\n",
        "# Function to generate histograms and find top tokens\n",
        "def plot_and_get_top_tokens(token_ids, title, tokenizer, n=5):\n",
        "    # Generate histogram\n",
        "    plt.figure(figsize=(12, 6))\n",
        "    sns.histplot(token_ids, bins=30, kde=False, color='blue')\n",
        "    plt.title(title)\n",
        "    plt.xlabel('Token ID')\n",
        "    plt.ylabel('Frequency')\n",
        "    plt.show()\n",
        "\n",
        "    # Top tokens\n",
        "    token_counts = torch.bincount(torch.tensor(token_ids))\n",
        "    sorted_indices = torch.argsort(token_counts, descending=True)\n",
        "    top_tokens = [(idx.item(), count.item()) for idx, count in zip(sorted_indices[:n], token_counts[sorted_indices][:n])]\n",
        "\n",
        "    # Print token meanings\n",
        "    print(f\"\\nTop {n} occurring tokens and their meanings:\")\n",
        "    for token_id, count in top_tokens:\n",
        "        token = tokenizer.decode(token_id)\n",
        "        print(f\"Token ID: {token_id}, Count: {count}, Token: {token}\")\n",
        "\n",
        "    return top_tokens\n"
      ]
    },
    {
      "cell_type": "code",
      "execution_count": null,
      "metadata": {
        "colab": {
          "base_uri": "https://localhost:8080/",
          "height": 1000
        },
        "id": "cxtAHdSZFMdX",
        "outputId": "f5ac985f-0b78-4fb7-ce01-902d564b62c8"
      },
      "outputs": [
        {
          "name": "stderr",
          "output_type": "stream",
          "text": [
            "/usr/local/lib/python3.10/dist-packages/transformers/tokenization_utils_base.py:2614: FutureWarning: The `pad_to_max_length` argument is deprecated and will be removed in a future version, use `padding=True` or `padding='longest'` to pad to the longest sequence in the batch, or use `padding='max_length'` to pad to a max length. In this case, you can give a specific length with `max_length` (e.g. `max_length=45`) or leave max_length to None to pad to the maximal input size of the model (e.g. 512 for Bert).\n",
            "  warnings.warn(\n",
            "/usr/local/lib/python3.10/dist-packages/transformers/tokenization_utils_base.py:2614: FutureWarning: The `pad_to_max_length` argument is deprecated and will be removed in a future version, use `padding=True` or `padding='longest'` to pad to the longest sequence in the batch, or use `padding='max_length'` to pad to a max length. In this case, you can give a specific length with `max_length` (e.g. `max_length=45`) or leave max_length to None to pad to the maximal input size of the model (e.g. 512 for Bert).\n",
            "  warnings.warn(\n",
            "/usr/local/lib/python3.10/dist-packages/transformers/tokenization_utils_base.py:2614: FutureWarning: The `pad_to_max_length` argument is deprecated and will be removed in a future version, use `padding=True` or `padding='longest'` to pad to the longest sequence in the batch, or use `padding='max_length'` to pad to a max length. In this case, you can give a specific length with `max_length` (e.g. `max_length=45`) or leave max_length to None to pad to the maximal input size of the model (e.g. 512 for Bert).\n",
            "  warnings.warn(\n",
            "/usr/local/lib/python3.10/dist-packages/transformers/tokenization_utils_base.py:2614: FutureWarning: The `pad_to_max_length` argument is deprecated and will be removed in a future version, use `padding=True` or `padding='longest'` to pad to the longest sequence in the batch, or use `padding='max_length'` to pad to a max length. In this case, you can give a specific length with `max_length` (e.g. `max_length=45`) or leave max_length to None to pad to the maximal input size of the model (e.g. 512 for Bert).\n",
            "  warnings.warn(\n"
          ]
        },
        {
          "data": {
            "image/png": "[encoded data removed]",
            "text/plain": [
              "<Figure size 1200x600 with 1 Axes>"
            ]
          },
          "metadata": {},
          "output_type": "display_data"
        },
        {
          "name": "stdout",
          "output_type": "stream",
          "text": [
            "\n",
            "Top 5 occurring tokens and their meanings:\n",
            "Token ID: 0, Count: 4276412, Token: [ P A D ]\n",
            "Token ID: 119, Count: 319265, Token: .\n",
            "Token ID: 1103, Count: 276886, Token: t h e\n",
            "Token ID: 117, Count: 261168, Token: ,\n",
            "Token ID: 170, Count: 154248, Token: a\n"
          ]
        },
        {
          "name": "stderr",
          "output_type": "stream",
          "text": [
            "/usr/local/lib/python3.10/dist-packages/torch/utils/data/dataloader.py:557: UserWarning: This DataLoader will create 4 worker processes in total. Our suggested max number of worker in current system is 2, which is smaller than what this DataLoader is going to create. Please be aware that excessive worker creation might get DataLoader running slow or even freeze, lower the worker number to avoid potential slowness/freeze if necessary.\n",
            "  warnings.warn(_create_warning_msg(\n",
            "/usr/local/lib/python3.10/dist-packages/transformers/tokenization_utils_base.py:2614: FutureWarning: The `pad_to_max_length` argument is deprecated and will be removed in a future version, use `padding=True` or `padding='longest'` to pad to the longest sequence in the batch, or use `padding='max_length'` to pad to a max length. In this case, you can give a specific length with `max_length` (e.g. `max_length=45`) or leave max_length to None to pad to the maximal input size of the model (e.g. 512 for Bert).\n",
            "  warnings.warn(\n",
            "/usr/local/lib/python3.10/dist-packages/transformers/tokenization_utils_base.py:2614: FutureWarning: The `pad_to_max_length` argument is deprecated and will be removed in a future version, use `padding=True` or `padding='longest'` to pad to the longest sequence in the batch, or use `padding='max_length'` to pad to a max length. In this case, you can give a specific length with `max_length` (e.g. `max_length=45`) or leave max_length to None to pad to the maximal input size of the model (e.g. 512 for Bert).\n",
            "  warnings.warn(\n",
            "/usr/local/lib/python3.10/dist-packages/transformers/tokenization_utils_base.py:2614: FutureWarning: The `pad_to_max_length` argument is deprecated and will be removed in a future version, use `padding=True` or `padding='longest'` to pad to the longest sequence in the batch, or use `padding='max_length'` to pad to a max length. In this case, you can give a specific length with `max_length` (e.g. `max_length=45`) or leave max_length to None to pad to the maximal input size of the model (e.g. 512 for Bert).\n",
            "  warnings.warn(\n",
            "/usr/local/lib/python3.10/dist-packages/transformers/tokenization_utils_base.py:2614: FutureWarning: The `pad_to_max_length` argument is deprecated and will be removed in a future version, use `padding=True` or `padding='longest'` to pad to the longest sequence in the batch, or use `padding='max_length'` to pad to a max length. In this case, you can give a specific length with `max_length` (e.g. `max_length=45`) or leave max_length to None to pad to the maximal input size of the model (e.g. 512 for Bert).\n",
            "  warnings.warn(\n"
          ]
        },
        {
          "data": {
            "image/png": "[encoded data removed]",
            "text/plain": [
              "<Figure size 1200x600 with 1 Axes>"
            ]
          },
          "metadata": {},
          "output_type": "display_data"
        },
        {
          "name": "stdout",
          "output_type": "stream",
          "text": [
            "\n",
            "Top 5 occurring tokens and their meanings:\n",
            "Token ID: 0, Count: 1424150, Token: [ P A D ]\n",
            "Token ID: 119, Count: 105763, Token: .\n",
            "Token ID: 1103, Count: 92192, Token: t h e\n",
            "Token ID: 117, Count: 86496, Token: ,\n",
            "Token ID: 170, Count: 51185, Token: a\n"
          ]
        },
        {
          "name": "stderr",
          "output_type": "stream",
          "text": [
            "/usr/local/lib/python3.10/dist-packages/torch/utils/data/dataloader.py:557: UserWarning: This DataLoader will create 4 worker processes in total. Our suggested max number of worker in current system is 2, which is smaller than what this DataLoader is going to create. Please be aware that excessive worker creation might get DataLoader running slow or even freeze, lower the worker number to avoid potential slowness/freeze if necessary.\n",
            "  warnings.warn(_create_warning_msg(\n",
            "/usr/local/lib/python3.10/dist-packages/transformers/tokenization_utils_base.py:2614: FutureWarning: The `pad_to_max_length` argument is deprecated and will be removed in a future version, use `padding=True` or `padding='longest'` to pad to the longest sequence in the batch, or use `padding='max_length'` to pad to a max length. In this case, you can give a specific length with `max_length` (e.g. `max_length=45`) or leave max_length to None to pad to the maximal input size of the model (e.g. 512 for Bert).\n",
            "  warnings.warn(\n",
            "/usr/local/lib/python3.10/dist-packages/transformers/tokenization_utils_base.py:2614: FutureWarning: The `pad_to_max_length` argument is deprecated and will be removed in a future version, use `padding=True` or `padding='longest'` to pad to the longest sequence in the batch, or use `padding='max_length'` to pad to a max length. In this case, you can give a specific length with `max_length` (e.g. `max_length=45`) or leave max_length to None to pad to the maximal input size of the model (e.g. 512 for Bert).\n",
            "  warnings.warn(\n",
            "/usr/local/lib/python3.10/dist-packages/transformers/tokenization_utils_base.py:2614: FutureWarning: The `pad_to_max_length` argument is deprecated and will be removed in a future version, use `padding=True` or `padding='longest'` to pad to the longest sequence in the batch, or use `padding='max_length'` to pad to a max length. In this case, you can give a specific length with `max_length` (e.g. `max_length=45`) or leave max_length to None to pad to the maximal input size of the model (e.g. 512 for Bert).\n",
            "  warnings.warn(\n",
            "/usr/local/lib/python3.10/dist-packages/transformers/tokenization_utils_base.py:2614: FutureWarning: The `pad_to_max_length` argument is deprecated and will be removed in a future version, use `padding=True` or `padding='longest'` to pad to the longest sequence in the batch, or use `padding='max_length'` to pad to a max length. In this case, you can give a specific length with `max_length` (e.g. `max_length=45`) or leave max_length to None to pad to the maximal input size of the model (e.g. 512 for Bert).\n",
            "  warnings.warn(\n"
          ]
        },
        {
          "data": {
            "image/png": "[encoded data removed]",
            "text/plain": [
              "<Figure size 1200x600 with 1 Axes>"
            ]
          },
          "metadata": {},
          "output_type": "display_data"
        },
        {
          "name": "stdout",
          "output_type": "stream",
          "text": [
            "\n",
            "Top 5 occurring tokens and their meanings:\n",
            "Token ID: 0, Count: 1441700, Token: [ P A D ]\n",
            "Token ID: 119, Count: 105850, Token: .\n",
            "Token ID: 1103, Count: 91709, Token: t h e\n",
            "Token ID: 117, Count: 85559, Token: ,\n",
            "Token ID: 170, Count: 50866, Token: a\n"
          ]
        },
        {
          "data": {
            "text/plain": [
              "[(0, 1441700), (119, 105850), (1103, 91709), (117, 85559), (170, 50866)]"
            ]
          },
          "execution_count": 32,
          "metadata": {},
          "output_type": "execute_result"
        }
      ],
      "source": [
        "# Training data\n",
        "train_token_ids = []\n",
        "for batch in train_data_loader:\n",
        "    train_token_ids.extend(batch['input_ids'].view(-1).numpy())\n",
        "\n",
        "plot_and_get_top_tokens(train_token_ids, title='Training Data Token Histogram', tokenizer=tokenizer)\n",
        "\n",
        "# Validation data\n",
        "valid_token_ids = []\n",
        "for batch in valid_data_loader:\n",
        "    valid_token_ids.extend(batch['input_ids'].view(-1).numpy())\n",
        "\n",
        "plot_and_get_top_tokens(valid_token_ids, title='Validation Data Token Histogram', tokenizer=tokenizer)\n",
        "\n",
        "# Test data\n",
        "test_token_ids = []\n",
        "for batch in test_data_loader:\n",
        "    test_token_ids.extend(batch['input_ids'].view(-1).numpy())\n",
        "\n",
        "plot_and_get_top_tokens(test_token_ids, title='Test Data Token Histogram', tokenizer=tokenizer)"
      ]
    },
    {
      "cell_type": "code",
      "execution_count": null,
      "metadata": {
        "id": "fS1c0a6wddHl"
      },
      "outputs": [],
      "source": [
        "'''\n",
        "PROVIDE YOUR ANSWER BELOW\n",
        "\n",
        "Top 5 occurring tokens in training data and their meanings:\n",
        "Token ID: 0, Count: 4276412, Token: [ P A D]\n",
        "Token ID: 119, Count: 319265, Token: .\n",
        "Token ID: 1103, Count: 276886, Token: t h e\n",
        "Token ID: 117, Count: 261168, Token: ,\n",
        "Token ID: 170, Count: 154248, Token: a\n",
        "\n",
        "'''"
      ]
    },
    {
      "cell_type": "markdown",
      "metadata": {
        "id": "3ElnJDdgcaiy"
      },
      "source": [
        "### Part (v) [1pt EXPLORATORY]\n",
        "\n",
        "Select a single sample from your training DataLoader and feed it through the **bert_model** to obtain the hidden_states and pooled_output. Briefly describe what each tensor dimension represents and what affects the size of each dimension."
      ]
    },
    {
      "cell_type": "code",
      "execution_count": null,
      "metadata": {
        "colab": {
          "base_uri": "https://localhost:8080/"
        },
        "id": "1HOknY9Ncai9",
        "outputId": "d84405e8-fc2c-4e99-ecfa-7957f3314f7c"
      },
      "outputs": [
        {
          "name": "stderr",
          "output_type": "stream",
          "text": [
            "/usr/local/lib/python3.10/dist-packages/transformers/tokenization_utils_base.py:2614: FutureWarning: The `pad_to_max_length` argument is deprecated and will be removed in a future version, use `padding=True` or `padding='longest'` to pad to the longest sequence in the batch, or use `padding='max_length'` to pad to a max length. In this case, you can give a specific length with `max_length` (e.g. `max_length=45`) or leave max_length to None to pad to the maximal input size of the model (e.g. 512 for Bert).\n",
            "  warnings.warn(\n",
            "/usr/local/lib/python3.10/dist-packages/transformers/tokenization_utils_base.py:2614: FutureWarning: The `pad_to_max_length` argument is deprecated and will be removed in a future version, use `padding=True` or `padding='longest'` to pad to the longest sequence in the batch, or use `padding='max_length'` to pad to a max length. In this case, you can give a specific length with `max_length` (e.g. `max_length=45`) or leave max_length to None to pad to the maximal input size of the model (e.g. 512 for Bert).\n",
            "  warnings.warn(\n",
            "/usr/local/lib/python3.10/dist-packages/transformers/tokenization_utils_base.py:2614: FutureWarning: The `pad_to_max_length` argument is deprecated and will be removed in a future version, use `padding=True` or `padding='longest'` to pad to the longest sequence in the batch, or use `padding='max_length'` to pad to a max length. In this case, you can give a specific length with `max_length` (e.g. `max_length=45`) or leave max_length to None to pad to the maximal input size of the model (e.g. 512 for Bert).\n",
            "  warnings.warn(\n",
            "/usr/local/lib/python3.10/dist-packages/transformers/tokenization_utils_base.py:2614: FutureWarning: The `pad_to_max_length` argument is deprecated and will be removed in a future version, use `padding=True` or `padding='longest'` to pad to the longest sequence in the batch, or use `padding='max_length'` to pad to a max length. In this case, you can give a specific length with `max_length` (e.g. `max_length=45`) or leave max_length to None to pad to the maximal input size of the model (e.g. 512 for Bert).\n",
            "  warnings.warn(\n"
          ]
        }
      ],
      "source": [
        "# TO BE COMPLETED\n",
        "for batch in train_data_loader:\n",
        "    input_ids = batch['input_ids'][0]  # Take the input_ids for the first sample in the batch\n",
        "    attention_mask = batch['attention_mask'][0]  # Take the attention_mask for the first sample in the batch\n",
        "    break\n",
        "\n",
        "# Assuming your model is loaded and tokenizer is defined as mentioned in the question\n",
        "encoding = {'input_ids': input_ids.unsqueeze(0), 'attention_mask': attention_mask.unsqueeze(0)}\n",
        "\n",
        "# Feed the input through the bert_model\n",
        "hidden_states, pooled_output = bert_model(input_ids=encoding['input_ids'],\n",
        "                                           attention_mask=encoding['attention_mask'])"
      ]
    },
    {
      "cell_type": "code",
      "execution_count": null,
      "metadata": {
        "id": "34OnAb9EdjtW"
      },
      "outputs": [],
      "source": [
        "'''\n",
        "PROVIDE YOUR ANSWER BELOW\n",
        "\n",
        "Hidden States (hidden_states):\n",
        "\n",
        "Dimensions: [batch_size, sequence_length, hidden_size]\n",
        "This tensor contains the hidden states for each token in the input sequence.\n",
        "batch_size: Number of samples in the batch.\n",
        "sequence_length: Number of tokens in the input sequence (padded to the maximum length).\n",
        "hidden_size: Dimensionality of the hidden states. For 'bert-base-cased', it is 768.\n",
        "The size of hidden_states is affected by the batch size and the length of the input sequence.\n",
        "Pooled Output (pooled_output):\n",
        "\n",
        "Dimensions: [batch_size, hidden_size]\n",
        "This tensor is a representation of the entire input sequence after pooling.\n",
        "It is commonly used as the input representation for downstream classification tasks.\n",
        "batch_size: Number of samples in the batch.\n",
        "hidden_size: Dimensionality of the hidden states. For 'bert-base-cased', it is 768.\n",
        "The size of pooled_output is affected by the batch size and the length of the input sequence.\n",
        "The size of each dimension is influenced by the architecture of the BERT model (e.g., 'bert-base-cased' has 768 hidden units), the batch size, and the length of the input sequence. Make sure that your input sequence length does not exceed the model's maximum sequence length, which is typically 512 for BERT.\n",
        "\n",
        "\n",
        "\n",
        "\n",
        "'''"
      ]
    },
    {
      "cell_type": "markdown",
      "metadata": {
        "id": "rDbQ7nRBek5S"
      },
      "source": [
        "## Part 2. Model Architecture [2 pt]\n",
        "\n",
        "### Part (i) [1pt MODEL]\n",
        "\n",
        "Prepare a review classifier model that builds on the pooled output from the Bert model to identify positive and negative reviews."
      ]
    },
    {
      "cell_type": "code",
      "execution_count": null,
      "metadata": {
        "id": "kAISbN5VexqS"
      },
      "outputs": [],
      "source": [
        "class SentimentClassifierPooled(nn.Module):\n",
        "\n",
        "  def __init__(self, n_classes):\n",
        "    super(SentimentClassifierPooled, self).__init__()\n",
        "    self.bert = BertModel.from_pretrained(PRE_TRAINED_MODEL_NAME)\n",
        "\n",
        "    # TO BE COMPLETED\n",
        "\n",
        "    self.dropout = nn.Dropout(p=0.3)\n",
        "    self.linear = nn.Linear(self.bert.config.hidden_size, n_classes)\n",
        "    self.sigmoid = nn.Sigmoid()\n",
        "\n",
        "  def forward(self, input_ids, attention_mask):\n",
        "    _, pooled_output = self.bert(input_ids=input_ids, attention_mask=attention_mask)\n",
        "      # TO BE COMPLETED\n",
        "\n",
        "        # Apply dropout\n",
        "    pooled_output = self.dropout(pooled_output)\n",
        "\n",
        "        # Linear layer for classification\n",
        "    logits = self.linear(pooled_output)\n",
        "\n",
        "        # Sigmoid activation for binary classification\n",
        "    probabilities = self.sigmoid(logits)\n",
        "\n",
        "    return probabilities\n",
        "\n",
        "\n"
      ]
    },
    {
      "cell_type": "markdown",
      "metadata": {
        "id": "RLFzooLUgn3c"
      },
      "source": [
        "### Part (ii) [1pt MODEL]\n",
        "\n",
        "Construct the architecture for a review classifier model that uses the last hidden output from the Bert model to identify positive and negative reviews."
      ]
    },
    {
      "cell_type": "code",
      "source": [
        "class SentimentClassifier(nn.Module):\n",
        "    def __init__(self, embedding_dim=768, drop_out=0.3):\n",
        "        super(SentimentClassifier, self).__init__()\n",
        "        self.drop = nn.Dropout(drop_out)\n",
        "        self.fc1 = nn.Linear(embedding_dim, embedding_dim)\n",
        "        self.fc2 = nn.Linear(embedding_dim, int(embedding_dim/2))\n",
        "        self.fc3 = nn.Linear(int(embedding_dim/2), 1)  # Change the output size to 1\n",
        "        self.relu = nn.ReLU()\n",
        "\n",
        "    def forward(self, embeddings):\n",
        "        x = self.drop(embeddings)\n",
        "        x = self.relu(self.fc1(x))\n",
        "        x = self.drop(x)\n",
        "        x = self.relu(self.fc2(x))\n",
        "        x = self.fc3(x)\n",
        "        return x"
      ],
      "metadata": {
        "id": "iew-DuI9-KuE"
      },
      "execution_count": null,
      "outputs": []
    },
    {
      "cell_type": "code",
      "source": [
        "import torch.nn as nn\n",
        "\n",
        "class SentimentClassifierRNN(nn.Module):\n",
        "    def __init__(self, embedding_dim=768, hidden_dim=256, num_layers=1, drop_out=0.3):\n",
        "        super(SentimentClassifierRNN, self).__init__()\n",
        "        self.embedding_dim = embedding_dim\n",
        "        self.hidden_dim = hidden_dim\n",
        "        self.num_layers = num_layers\n",
        "\n",
        "        # LSTM layer\n",
        "        self.rnn = nn.LSTM(embedding_dim, hidden_dim, num_layers=num_layers, batch_first=True, dropout=drop_out, bidirectional=True)\n",
        "\n",
        "        # Fully connected layers\n",
        "        self.fc1 = nn.Linear(hidden_dim * 2, hidden_dim)  # Multiply by 2 for bidirectional\n",
        "        self.fc2 = nn.Linear(hidden_dim, 1)  # Change the output size to 1\n",
        "        self.relu = nn.ReLU()\n",
        "\n",
        "        # Dropout layer\n",
        "        self.drop = nn.Dropout(drop_out)\n",
        "\n",
        "    def forward(self, embeddings):\n",
        "        # LSTM input shape: (batch_size, sequence_length, embedding_dim)\n",
        "        lstm_out, _ = self.rnn(embeddings)\n",
        "\n",
        "        # Extract the output from the last time step\n",
        "        last_output = lstm_out[:, -1, :]\n",
        "\n",
        "        # If the last_output tensor has more than 2 dimensions, squeeze it\n",
        "        last_output = last_output.squeeze()\n",
        "\n",
        "        x = self.drop(last_output)\n",
        "        x = self.relu(self.fc1(x))\n",
        "        x = self.drop(x)\n",
        "        x = self.fc2(x)\n",
        "\n",
        "        return x\n"
      ],
      "metadata": {
        "id": "pQ4FbjTE-SV3"
      },
      "execution_count": null,
      "outputs": []
    },
    {
      "cell_type": "code",
      "source": [
        "class SentimentClassifierLast(nn.Module):\n",
        "    def __init__(self, n_classes, dropout_rate=0.3, hidden_layer_size=768):\n",
        "        super(SentimentClassifierLast, self).__init__()\n",
        "        self.dropout = nn.Dropout(p=dropout_rate)\n",
        "        self.linear = nn.Linear(hidden_layer_size, hidden_layer_size)\n",
        "        self.output_linear = nn.Linear(hidden_layer_size, n_classes)\n",
        "        self.sigmoid = nn.Sigmoid()\n",
        "\n",
        "        # Load pre-saved BERT embeddings\n",
        "        self.load_bert_embeddings()\n",
        "\n",
        "    def load_bert_embeddings(self):\n",
        "        # Load the pre-saved BERT embeddings\n",
        "        self.bert_embeddings = np.load('bert_train_embeddings.npy')\n",
        "        self.register_buffer('bert_embeddings', torch.tensor(self.bert_embeddings, dtype=torch.float32))\n",
        "\n",
        "    def forward(self, input_ids, attention_mask):\n",
        "        # Use the loaded BERT embeddings\n",
        "        cls_token = self.bert_embeddings\n",
        "\n",
        "        # Apply dropout\n",
        "        cls_token = self.dropout(cls_token)\n",
        "\n",
        "        # Linear layer with ReLU activation for an additional hidden layer\n",
        "        hidden_layer = self.linear(cls_token)\n",
        "\n",
        "        # Linear layer for classification\n",
        "        logits = self.output_linear(hidden_layer)\n",
        "\n",
        "        # Sigmoid activation for binary classification\n",
        "        probabilities = self.sigmoid(logits)\n",
        "\n",
        "        return probabilities\n",
        "\n"
      ],
      "metadata": {
        "id": "uvdeXWwjJBuz"
      },
      "execution_count": null,
      "outputs": []
    },
    {
      "cell_type": "markdown",
      "metadata": {
        "id": "nqkKp1CgiYZb"
      },
      "source": [
        "## Part 3. Training [3 pt]\n",
        "\n",
        "### Part (i) [1pt MODEL]\n",
        "\n",
        "Complete the `get_accuracy` function, which will compute the\n",
        "accuracy (rate) of your model across a dataset (e.g. validation set)."
      ]
    },
    {
      "cell_type": "code",
      "execution_count": null,
      "metadata": {
        "id": "LC89f2i7iYZl"
      },
      "outputs": [],
      "source": [
        "def get_accuracy(model, data_loader, device):\n",
        "    \"\"\" Compute the accuracy of the `model` across a dataset `data_loader`\n",
        "\n",
        "    Args:\n",
        "        model (torch.nn.Module): The PyTorch model.\n",
        "        data_loader (torch.utils.data.DataLoader): DataLoader containing input and label pairs.\n",
        "        device (str): Device to which the model and data should be moved.\n",
        "\n",
        "    Returns:\n",
        "        float: Accuracy of the model on the given dataset in percentage.\n",
        "    \"\"\"\n",
        "    model.eval()\n",
        "    correct = 0\n",
        "    total = 0\n",
        "\n",
        "    with torch.no_grad():\n",
        "        for embeddings, targets in data_loader:\n",
        "            embeddings, targets = embeddings.to(device), targets.to(device)\n",
        "\n",
        "            # Assuming your model returns a single output for binary classification\n",
        "            outputs = model(embeddings)\n",
        "\n",
        "            # Convert probabilities to binary predictions (0 or 1) using a threshold\n",
        "            predictions = torch.round(torch.sigmoid(outputs))\n",
        "\n",
        "            total += targets.size(0)\n",
        "            correct += (predictions.squeeze() == targets).sum().item()\n",
        "\n",
        "    accuracy = correct / total * 100\n",
        "    return accuracy\n"
      ]
    },
    {
      "cell_type": "markdown",
      "metadata": {
        "id": "ruaRg5JCiYZm"
      },
      "source": [
        "### Part (ii) [1pt MODEL]\n",
        "\n",
        "Write a function **train_model** to train your model. Plot the training curve of your final model.\n",
        "Your training curve should have the training/validation loss and\n",
        "accuracy plotted periodically."
      ]
    },
    {
      "cell_type": "code",
      "execution_count": null,
      "metadata": {
        "id": "wuqypAPxiYZm"
      },
      "outputs": [],
      "source": [
        "def train_model(model, train_loader, valid_loader, num_epochs=3, learning_rate=1e-5, device=\"cpu\"):\n",
        "    model = model.to(device)\n",
        "    criterion = nn.BCEWithLogitsLoss()  # Binary Cross Entropy with Logits\n",
        "    optimizer = optim.Adam(model.parameters(), lr=learning_rate)\n",
        "    train_losses, valid_losses, train_acc, valid_acc = [], [], [], []\n",
        "    epochs = []\n",
        "\n",
        "    for epoch in range(num_epochs):\n",
        "        model.train()\n",
        "        total_train_loss = 0.0\n",
        "\n",
        "        for embeddings, targets in train_loader:\n",
        "            embeddings, targets = embeddings.to(device), targets.to(device)\n",
        "\n",
        "            # Ensure that the input is 3D\n",
        "            if embeddings.dim() == 2:\n",
        "                embeddings = embeddings.unsqueeze(1)\n",
        "\n",
        "            optimizer.zero_grad()\n",
        "            outputs = model(embeddings)\n",
        "\n",
        "            # Modify the target tensor\n",
        "            targets = targets.unsqueeze(1).float()\n",
        "\n",
        "            loss = criterion(outputs, targets)\n",
        "            loss.backward()\n",
        "            optimizer.step()\n",
        "\n",
        "            total_train_loss += loss.item()\n",
        "\n",
        "        avg_train_loss = total_train_loss / len(train_loader)\n",
        "        train_losses.append(avg_train_loss)\n",
        "\n",
        "        # Accuracy calculation for training set\n",
        "        train_accuracy = get_accuracy(model, train_loader, device)\n",
        "        train_acc.append(train_accuracy)\n",
        "\n",
        "        # Validation loss and accuracy calculation\n",
        "        model.eval()\n",
        "        total_valid_loss = 0.0\n",
        "\n",
        "        with torch.no_grad():\n",
        "            for embeddings, targets in valid_loader:\n",
        "                embeddings, targets = embeddings.to(device), targets.to(device)\n",
        "\n",
        "                # Ensure that the input is 3D\n",
        "                if embeddings.dim() == 2:\n",
        "                    embeddings = embeddings.unsqueeze(1)\n",
        "\n",
        "                outputs = model(embeddings)\n",
        "\n",
        "                # Modify the target tensor\n",
        "                targets = targets.unsqueeze(1).float()\n",
        "\n",
        "                loss_valid = criterion(outputs, targets)\n",
        "                total_valid_loss += loss_valid.item()\n",
        "\n",
        "        avg_valid_loss = total_valid_loss / len(valid_loader)\n",
        "        valid_losses.append(avg_valid_loss)\n",
        "\n",
        "        # Accuracy calculation for validation set\n",
        "        valid_accuracy = get_accuracy(model, valid_loader, device)\n",
        "        valid_acc.append(valid_accuracy)\n",
        "\n",
        "        epochs.append(epoch + 1)\n",
        "        print(f\"Epoch {epoch+1}/{num_epochs}; Train Loss: {avg_train_loss:.4f}; Valid Loss: {avg_valid_loss:.4f}; Train Acc: {train_accuracy:.2f}%; Valid Acc: {valid_accuracy:.2f}%\")\n",
        "\n",
        "    # Plotting the training curve\n",
        "    plt.figure(figsize=(12, 4))\n",
        "\n",
        "    # Plot Loss Curve\n",
        "    plt.subplot(1, 2, 1)\n",
        "    plt.title(\"Training and Validation Loss Curve\")\n",
        "    plt.plot(epochs, train_losses, label=\"Train\")\n",
        "    plt.plot(epochs, valid_losses, label=\"Validation\")\n",
        "    plt.xlabel(\"Epoch\")\n",
        "    plt.ylabel(\"Loss\")\n",
        "    plt.legend(loc='best')\n",
        "\n",
        "    # Plot Accuracy Curve\n",
        "    plt.subplot(1, 2, 2)\n",
        "    plt.title(\"Training and Validation Accuracy Curve\")\n",
        "    plt.plot(epochs, train_acc, label=\"Train\")\n",
        "    plt.plot(epochs, valid_acc, label=\"Validation\")\n",
        "    plt.xlabel(\"Epoch\")\n",
        "    plt.ylabel(\"Accuracy\")\n",
        "    plt.legend(loc='best')\n",
        "\n",
        "    plt.tight_layout()\n",
        "    plt.show()"
      ]
    },
    {
      "cell_type": "markdown",
      "source": [
        "Some other things you could try:\n",
        "\n",
        "1. Try reducing your batch size.(128,64,16,4)\n",
        "\n",
        "2. if the model you are using is heavy, try to reduce its complexity.\n",
        "\n",
        "3. Make sure you clear the memory between different runs. (done)\n",
        "\n",
        "4. Save BERT embeddings of movie reviews, similar alexnet features in Assignment 2. (done)"
      ],
      "metadata": {
        "id": "p-5fLYmrZ_HV"
      }
    },
    {
      "cell_type": "code",
      "execution_count": null,
      "metadata": {
        "id": "PIawIJGLZezo",
        "colab": {
          "base_uri": "https://localhost:8080/",
          "height": 376
        },
        "outputId": "0997614a-1ae3-4347-a2d3-c1149af9655f"
      },
      "outputs": [
        {
          "output_type": "error",
          "ename": "IndexError",
          "evalue": "ignored",
          "traceback": [
            "\u001b[0;31m---------------------------------------------------------------------------\u001b[0m",
            "\u001b[0;31mIndexError\u001b[0m                                Traceback (most recent call last)",
            "\u001b[0;32m<ipython-input-81-0f64542d749e>\u001b[0m in \u001b[0;36m<cell line: 4>\u001b[0;34m()\u001b[0m\n\u001b[1;32m      2\u001b[0m \u001b[0mdevice\u001b[0m \u001b[0;34m=\u001b[0m \u001b[0mtorch\u001b[0m\u001b[0;34m.\u001b[0m\u001b[0mdevice\u001b[0m\u001b[0;34m(\u001b[0m\u001b[0;34m'cuda'\u001b[0m \u001b[0;32mif\u001b[0m \u001b[0mtorch\u001b[0m\u001b[0;34m.\u001b[0m\u001b[0mcuda\u001b[0m\u001b[0;34m.\u001b[0m\u001b[0mis_available\u001b[0m\u001b[0;34m(\u001b[0m\u001b[0;34m)\u001b[0m \u001b[0;32melse\u001b[0m \u001b[0;34m'cpu'\u001b[0m\u001b[0;34m)\u001b[0m\u001b[0;34m\u001b[0m\u001b[0;34m\u001b[0m\u001b[0m\n\u001b[1;32m      3\u001b[0m \u001b[0mmodel\u001b[0m \u001b[0;34m=\u001b[0m \u001b[0mSentimentClassifierRNN\u001b[0m\u001b[0;34m(\u001b[0m\u001b[0membedding_dim\u001b[0m\u001b[0;34m=\u001b[0m\u001b[0;36m768\u001b[0m\u001b[0;34m,\u001b[0m \u001b[0mhidden_dim\u001b[0m\u001b[0;34m=\u001b[0m\u001b[0;36m256\u001b[0m\u001b[0;34m,\u001b[0m \u001b[0mnum_layers\u001b[0m\u001b[0;34m=\u001b[0m\u001b[0;36m1\u001b[0m\u001b[0;34m,\u001b[0m \u001b[0mdrop_out\u001b[0m\u001b[0;34m=\u001b[0m\u001b[0;36m0.3\u001b[0m\u001b[0;34m)\u001b[0m\u001b[0;34m\u001b[0m\u001b[0;34m\u001b[0m\u001b[0m\n\u001b[0;32m----> 4\u001b[0;31m \u001b[0mtrain_model\u001b[0m\u001b[0;34m(\u001b[0m\u001b[0mmodel\u001b[0m\u001b[0;34m,\u001b[0m \u001b[0mtry_train_loader\u001b[0m\u001b[0;34m,\u001b[0m \u001b[0mtry_valid_loader\u001b[0m\u001b[0;34m,\u001b[0m \u001b[0mnum_epochs\u001b[0m\u001b[0;34m=\u001b[0m\u001b[0;36m3\u001b[0m\u001b[0;34m,\u001b[0m \u001b[0mlearning_rate\u001b[0m\u001b[0;34m=\u001b[0m\u001b[0;36m1e-5\u001b[0m\u001b[0;34m,\u001b[0m \u001b[0mdevice\u001b[0m\u001b[0;34m=\u001b[0m\u001b[0;34m\"cpu\"\u001b[0m\u001b[0;34m)\u001b[0m\u001b[0;34m\u001b[0m\u001b[0;34m\u001b[0m\u001b[0m\n\u001b[0m",
            "\u001b[0;32m<ipython-input-80-c2e2a60e7494>\u001b[0m in \u001b[0;36mtrain_model\u001b[0;34m(model, train_loader, valid_loader, num_epochs, learning_rate, device)\u001b[0m\n\u001b[1;32m     33\u001b[0m \u001b[0;34m\u001b[0m\u001b[0m\n\u001b[1;32m     34\u001b[0m         \u001b[0;31m# Accuracy calculation for training set\u001b[0m\u001b[0;34m\u001b[0m\u001b[0;34m\u001b[0m\u001b[0m\n\u001b[0;32m---> 35\u001b[0;31m         \u001b[0mtrain_accuracy\u001b[0m \u001b[0;34m=\u001b[0m \u001b[0mget_accuracy\u001b[0m\u001b[0;34m(\u001b[0m\u001b[0mmodel\u001b[0m\u001b[0;34m,\u001b[0m \u001b[0mtrain_loader\u001b[0m\u001b[0;34m,\u001b[0m \u001b[0mdevice\u001b[0m\u001b[0;34m)\u001b[0m\u001b[0;34m\u001b[0m\u001b[0;34m\u001b[0m\u001b[0m\n\u001b[0m\u001b[1;32m     36\u001b[0m         \u001b[0mtrain_acc\u001b[0m\u001b[0;34m.\u001b[0m\u001b[0mappend\u001b[0m\u001b[0;34m(\u001b[0m\u001b[0mtrain_accuracy\u001b[0m\u001b[0;34m)\u001b[0m\u001b[0;34m\u001b[0m\u001b[0;34m\u001b[0m\u001b[0m\n\u001b[1;32m     37\u001b[0m \u001b[0;34m\u001b[0m\u001b[0m\n",
            "\u001b[0;32m<ipython-input-77-af75af73f102>\u001b[0m in \u001b[0;36mget_accuracy\u001b[0;34m(model, data_loader, device)\u001b[0m\n\u001b[1;32m     19\u001b[0m \u001b[0;34m\u001b[0m\u001b[0m\n\u001b[1;32m     20\u001b[0m             \u001b[0;31m# Assuming your model returns a single output for binary classification\u001b[0m\u001b[0;34m\u001b[0m\u001b[0;34m\u001b[0m\u001b[0m\n\u001b[0;32m---> 21\u001b[0;31m             \u001b[0moutputs\u001b[0m \u001b[0;34m=\u001b[0m \u001b[0mmodel\u001b[0m\u001b[0;34m(\u001b[0m\u001b[0membeddings\u001b[0m\u001b[0;34m)\u001b[0m\u001b[0;34m\u001b[0m\u001b[0;34m\u001b[0m\u001b[0m\n\u001b[0m\u001b[1;32m     22\u001b[0m \u001b[0;34m\u001b[0m\u001b[0m\n\u001b[1;32m     23\u001b[0m             \u001b[0;31m# Convert probabilities to binary predictions (0 or 1) using a threshold\u001b[0m\u001b[0;34m\u001b[0m\u001b[0;34m\u001b[0m\u001b[0m\n",
            "\u001b[0;32m/usr/local/lib/python3.10/dist-packages/torch/nn/modules/module.py\u001b[0m in \u001b[0;36m_wrapped_call_impl\u001b[0;34m(self, *args, **kwargs)\u001b[0m\n\u001b[1;32m   1516\u001b[0m             \u001b[0;32mreturn\u001b[0m \u001b[0mself\u001b[0m\u001b[0;34m.\u001b[0m\u001b[0m_compiled_call_impl\u001b[0m\u001b[0;34m(\u001b[0m\u001b[0;34m*\u001b[0m\u001b[0margs\u001b[0m\u001b[0;34m,\u001b[0m \u001b[0;34m**\u001b[0m\u001b[0mkwargs\u001b[0m\u001b[0;34m)\u001b[0m  \u001b[0;31m# type: ignore[misc]\u001b[0m\u001b[0;34m\u001b[0m\u001b[0;34m\u001b[0m\u001b[0m\n\u001b[1;32m   1517\u001b[0m         \u001b[0;32melse\u001b[0m\u001b[0;34m:\u001b[0m\u001b[0;34m\u001b[0m\u001b[0;34m\u001b[0m\u001b[0m\n\u001b[0;32m-> 1518\u001b[0;31m             \u001b[0;32mreturn\u001b[0m \u001b[0mself\u001b[0m\u001b[0;34m.\u001b[0m\u001b[0m_call_impl\u001b[0m\u001b[0;34m(\u001b[0m\u001b[0;34m*\u001b[0m\u001b[0margs\u001b[0m\u001b[0;34m,\u001b[0m \u001b[0;34m**\u001b[0m\u001b[0mkwargs\u001b[0m\u001b[0;34m)\u001b[0m\u001b[0;34m\u001b[0m\u001b[0;34m\u001b[0m\u001b[0m\n\u001b[0m\u001b[1;32m   1519\u001b[0m \u001b[0;34m\u001b[0m\u001b[0m\n\u001b[1;32m   1520\u001b[0m     \u001b[0;32mdef\u001b[0m \u001b[0m_call_impl\u001b[0m\u001b[0;34m(\u001b[0m\u001b[0mself\u001b[0m\u001b[0;34m,\u001b[0m \u001b[0;34m*\u001b[0m\u001b[0margs\u001b[0m\u001b[0;34m,\u001b[0m \u001b[0;34m**\u001b[0m\u001b[0mkwargs\u001b[0m\u001b[0;34m)\u001b[0m\u001b[0;34m:\u001b[0m\u001b[0;34m\u001b[0m\u001b[0;34m\u001b[0m\u001b[0m\n",
            "\u001b[0;32m/usr/local/lib/python3.10/dist-packages/torch/nn/modules/module.py\u001b[0m in \u001b[0;36m_call_impl\u001b[0;34m(self, *args, **kwargs)\u001b[0m\n\u001b[1;32m   1525\u001b[0m                 \u001b[0;32mor\u001b[0m \u001b[0m_global_backward_pre_hooks\u001b[0m \u001b[0;32mor\u001b[0m \u001b[0m_global_backward_hooks\u001b[0m\u001b[0;34m\u001b[0m\u001b[0;34m\u001b[0m\u001b[0m\n\u001b[1;32m   1526\u001b[0m                 or _global_forward_hooks or _global_forward_pre_hooks):\n\u001b[0;32m-> 1527\u001b[0;31m             \u001b[0;32mreturn\u001b[0m \u001b[0mforward_call\u001b[0m\u001b[0;34m(\u001b[0m\u001b[0;34m*\u001b[0m\u001b[0margs\u001b[0m\u001b[0;34m,\u001b[0m \u001b[0;34m**\u001b[0m\u001b[0mkwargs\u001b[0m\u001b[0;34m)\u001b[0m\u001b[0;34m\u001b[0m\u001b[0;34m\u001b[0m\u001b[0m\n\u001b[0m\u001b[1;32m   1528\u001b[0m \u001b[0;34m\u001b[0m\u001b[0m\n\u001b[1;32m   1529\u001b[0m         \u001b[0;32mtry\u001b[0m\u001b[0;34m:\u001b[0m\u001b[0;34m\u001b[0m\u001b[0;34m\u001b[0m\u001b[0m\n",
            "\u001b[0;32m<ipython-input-76-afd04bfea9e0>\u001b[0m in \u001b[0;36mforward\u001b[0;34m(self, embeddings)\u001b[0m\n\u001b[1;32m     24\u001b[0m \u001b[0;34m\u001b[0m\u001b[0m\n\u001b[1;32m     25\u001b[0m         \u001b[0;31m# Extract the output from the last time step\u001b[0m\u001b[0;34m\u001b[0m\u001b[0;34m\u001b[0m\u001b[0m\n\u001b[0;32m---> 26\u001b[0;31m         \u001b[0mlast_output\u001b[0m \u001b[0;34m=\u001b[0m \u001b[0mlstm_out\u001b[0m\u001b[0;34m[\u001b[0m\u001b[0;34m:\u001b[0m\u001b[0;34m,\u001b[0m \u001b[0;34m-\u001b[0m\u001b[0;36m1\u001b[0m\u001b[0;34m,\u001b[0m \u001b[0;34m:\u001b[0m\u001b[0;34m]\u001b[0m\u001b[0;34m\u001b[0m\u001b[0;34m\u001b[0m\u001b[0m\n\u001b[0m\u001b[1;32m     27\u001b[0m \u001b[0;34m\u001b[0m\u001b[0m\n\u001b[1;32m     28\u001b[0m         \u001b[0;31m# If the last_output tensor has more than 2 dimensions, squeeze it\u001b[0m\u001b[0;34m\u001b[0m\u001b[0;34m\u001b[0m\u001b[0m\n",
            "\u001b[0;31mIndexError\u001b[0m: too many indices for tensor of dimension 2"
          ]
        }
      ],
      "source": [
        "# Default Setting\n",
        "device = torch.device('cuda' if torch.cuda.is_available() else 'cpu')\n",
        "model = SentimentClassifierRNN(embedding_dim=768, hidden_dim=256, num_layers=1, drop_out=0.3)\n",
        "train_model(model, try_train_loader, try_valid_loader, num_epochs=3, learning_rate=1e-5, device=\"cpu\")"
      ]
    },
    {
      "cell_type": "markdown",
      "metadata": {
        "id": "XVvzpQRWiYZm"
      },
      "source": [
        "### Part (iii) [1pt MODEL]\n",
        "\n",
        "Choose at least 4 hyperparameters to tune. Explain how you tuned the hyperparameters. You don't need to include your training curve for every model you trained.\n",
        "Instead, explain what hyperparemters you tuned, what the best validation accuracy was,\n",
        "and the reasoning behind the hyperparameter decisions you made.\n",
        "\n",
        "For this assignment, you should tune more than just your learning rate and epoch.\n",
        "Choose at least 2 hyperparameters that are unrelated to the optimizer."
      ]
    },
    {
      "cell_type": "code",
      "source": [
        "device = torch.device('cuda' if torch.cuda.is_available() else 'cpu')\n",
        "\n",
        "# Specify the path where you want to save or load the BERT embeddings\n",
        "bert_path = '/content/Bert_Emb_Train'\n",
        "\n",
        "# Create an instance of SentimentClassifierLast with the specified BERT embeddings path\n",
        "model = SentimentClassifierLast(n_classes=1, dropout_rate=0.8, hidden_layer_size=256, bert_embeddings_path=bert_path)\n",
        "\n",
        "# Train the model\n",
        "train_model(model, train_data_loader, valid_data_loader, num_epochs=5, learning_rate=0.00001, device=device)"
      ],
      "metadata": {
        "id": "D6TSqGYfRAZW"
      },
      "execution_count": null,
      "outputs": []
    },
    {
      "cell_type": "code",
      "source": [
        "device = torch.device('cuda' if torch.cuda.is_available() else 'cpu')\n",
        "\n",
        "# Specify the path where you want to save or load the BERT embeddings\n",
        "bert_path = '/content/Bert_Emb_Train'\n",
        "\n",
        "# Create an instance of SentimentClassifierLast with the specified BERT embeddings path\n",
        "model = SentimentClassifierLast(n_classes=1, dropout_rate=0.5, hidden_layer_size=768, bert_embeddings_path=bert_path)\n",
        "\n",
        "# Train the model\n",
        "train_model(model, train_data_loader, valid_data_loader, num_epochs=5, learning_rate=0.00001, device=device)"
      ],
      "metadata": {
        "id": "0qqTy3ZKlqT-"
      },
      "execution_count": null,
      "outputs": []
    },
    {
      "cell_type": "code",
      "source": [
        "device = torch.device('cuda' if torch.cuda.is_available() else 'cpu')\n",
        "\n",
        "# Specify the path where you want to save or load the BERT embeddings\n",
        "bert_path = '/content/Bert_Emb_Train'\n",
        "\n",
        "# Create an instance of SentimentClassifierLast with the specified BERT embeddings path\n",
        "model = SentimentClassifierLast(n_classes=1, dropout_rate=0.5, hidden_layer_size=768, bert_embeddings_path=bert_path)\n",
        "\n",
        "# Train the model\n",
        "train_model(model, train_data_loader, valid_data_loader, num_epochs=5, learning_rate=0.0001, device=device)"
      ],
      "metadata": {
        "id": "pwfVo7qpluqK"
      },
      "execution_count": null,
      "outputs": []
    },
    {
      "cell_type": "code",
      "source": [
        "device = torch.device('cuda' if torch.cuda.is_available() else 'cpu')\n",
        "\n",
        "# Specify the path where you want to save or load the BERT embeddings\n",
        "bert_path = '/content/Bert_Emb_Train'\n",
        "\n",
        "# Create an instance of SentimentClassifierLast with the specified BERT embeddings path\n",
        "model = SentimentClassifierLast(n_classes=1, dropout_rate=0.1, hidden_layer_size=768, bert_embeddings_path=bert_path)\n",
        "\n",
        "# Train the model\n",
        "train_model(model, train_data_loader, valid_data_loader, num_epochs=5, learning_rate=0.0001, device=device)"
      ],
      "metadata": {
        "id": "L3sJ3q79lxMs"
      },
      "execution_count": null,
      "outputs": []
    },
    {
      "cell_type": "code",
      "execution_count": null,
      "metadata": {
        "id": "WeCZtA9iiYZm",
        "colab": {
          "base_uri": "https://localhost:8080/",
          "height": 1000
        },
        "outputId": "61f8f1fc-cf83-45c9-bad3-212a00ee1a12"
      },
      "outputs": [
        {
          "output_type": "stream",
          "name": "stderr",
          "text": [
            "/usr/local/lib/python3.10/dist-packages/transformers/tokenization_utils_base.py:2614: FutureWarning: The `pad_to_max_length` argument is deprecated and will be removed in a future version, use `padding=True` or `padding='longest'` to pad to the longest sequence in the batch, or use `padding='max_length'` to pad to a max length. In this case, you can give a specific length with `max_length` (e.g. `max_length=45`) or leave max_length to None to pad to the maximal input size of the model (e.g. 512 for Bert).\n",
            "  warnings.warn(\n",
            "/usr/local/lib/python3.10/dist-packages/transformers/tokenization_utils_base.py:2614: FutureWarning: The `pad_to_max_length` argument is deprecated and will be removed in a future version, use `padding=True` or `padding='longest'` to pad to the longest sequence in the batch, or use `padding='max_length'` to pad to a max length. In this case, you can give a specific length with `max_length` (e.g. `max_length=45`) or leave max_length to None to pad to the maximal input size of the model (e.g. 512 for Bert).\n",
            "  warnings.warn(\n",
            "/usr/local/lib/python3.10/dist-packages/transformers/tokenization_utils_base.py:2614: FutureWarning: The `pad_to_max_length` argument is deprecated and will be removed in a future version, use `padding=True` or `padding='longest'` to pad to the longest sequence in the batch, or use `padding='max_length'` to pad to a max length. In this case, you can give a specific length with `max_length` (e.g. `max_length=45`) or leave max_length to None to pad to the maximal input size of the model (e.g. 512 for Bert).\n",
            "  warnings.warn(\n",
            "/usr/local/lib/python3.10/dist-packages/transformers/tokenization_utils_base.py:2614: FutureWarning: The `pad_to_max_length` argument is deprecated and will be removed in a future version, use `padding=True` or `padding='longest'` to pad to the longest sequence in the batch, or use `padding='max_length'` to pad to a max length. In this case, you can give a specific length with `max_length` (e.g. `max_length=45`) or leave max_length to None to pad to the maximal input size of the model (e.g. 512 for Bert).\n",
            "  warnings.warn(\n",
            "/usr/local/lib/python3.10/dist-packages/transformers/tokenization_utils_base.py:2614: FutureWarning: The `pad_to_max_length` argument is deprecated and will be removed in a future version, use `padding=True` or `padding='longest'` to pad to the longest sequence in the batch, or use `padding='max_length'` to pad to a max length. In this case, you can give a specific length with `max_length` (e.g. `max_length=45`) or leave max_length to None to pad to the maximal input size of the model (e.g. 512 for Bert).\n",
            "  warnings.warn(\n",
            "/usr/local/lib/python3.10/dist-packages/transformers/tokenization_utils_base.py:2614: FutureWarning: The `pad_to_max_length` argument is deprecated and will be removed in a future version, use `padding=True` or `padding='longest'` to pad to the longest sequence in the batch, or use `padding='max_length'` to pad to a max length. In this case, you can give a specific length with `max_length` (e.g. `max_length=45`) or leave max_length to None to pad to the maximal input size of the model (e.g. 512 for Bert).\n",
            "  warnings.warn(\n",
            "/usr/local/lib/python3.10/dist-packages/transformers/tokenization_utils_base.py:2614: FutureWarning: The `pad_to_max_length` argument is deprecated and will be removed in a future version, use `padding=True` or `padding='longest'` to pad to the longest sequence in the batch, or use `padding='max_length'` to pad to a max length. In this case, you can give a specific length with `max_length` (e.g. `max_length=45`) or leave max_length to None to pad to the maximal input size of the model (e.g. 512 for Bert).\n",
            "  warnings.warn(\n",
            "/usr/local/lib/python3.10/dist-packages/transformers/tokenization_utils_base.py:2614: FutureWarning: The `pad_to_max_length` argument is deprecated and will be removed in a future version, use `padding=True` or `padding='longest'` to pad to the longest sequence in the batch, or use `padding='max_length'` to pad to a max length. In this case, you can give a specific length with `max_length` (e.g. `max_length=45`) or leave max_length to None to pad to the maximal input size of the model (e.g. 512 for Bert).\n",
            "  warnings.warn(\n",
            "/usr/local/lib/python3.10/dist-packages/transformers/tokenization_utils_base.py:2614: FutureWarning: The `pad_to_max_length` argument is deprecated and will be removed in a future version, use `padding=True` or `padding='longest'` to pad to the longest sequence in the batch, or use `padding='max_length'` to pad to a max length. In this case, you can give a specific length with `max_length` (e.g. `max_length=45`) or leave max_length to None to pad to the maximal input size of the model (e.g. 512 for Bert).\n",
            "  warnings.warn(\n",
            "/usr/local/lib/python3.10/dist-packages/transformers/tokenization_utils_base.py:2614: FutureWarning: The `pad_to_max_length` argument is deprecated and will be removed in a future version, use `padding=True` or `padding='longest'` to pad to the longest sequence in the batch, or use `padding='max_length'` to pad to a max length. In this case, you can give a specific length with `max_length` (e.g. `max_length=45`) or leave max_length to None to pad to the maximal input size of the model (e.g. 512 for Bert).\n",
            "  warnings.warn(\n",
            "/usr/local/lib/python3.10/dist-packages/transformers/tokenization_utils_base.py:2614: FutureWarning: The `pad_to_max_length` argument is deprecated and will be removed in a future version, use `padding=True` or `padding='longest'` to pad to the longest sequence in the batch, or use `padding='max_length'` to pad to a max length. In this case, you can give a specific length with `max_length` (e.g. `max_length=45`) or leave max_length to None to pad to the maximal input size of the model (e.g. 512 for Bert).\n",
            "  warnings.warn(\n",
            "/usr/local/lib/python3.10/dist-packages/transformers/tokenization_utils_base.py:2614: FutureWarning: The `pad_to_max_length` argument is deprecated and will be removed in a future version, use `padding=True` or `padding='longest'` to pad to the longest sequence in the batch, or use `padding='max_length'` to pad to a max length. In this case, you can give a specific length with `max_length` (e.g. `max_length=45`) or leave max_length to None to pad to the maximal input size of the model (e.g. 512 for Bert).\n",
            "  warnings.warn(\n",
            "/usr/local/lib/python3.10/dist-packages/transformers/tokenization_utils_base.py:2614: FutureWarning: The `pad_to_max_length` argument is deprecated and will be removed in a future version, use `padding=True` or `padding='longest'` to pad to the longest sequence in the batch, or use `padding='max_length'` to pad to a max length. In this case, you can give a specific length with `max_length` (e.g. `max_length=45`) or leave max_length to None to pad to the maximal input size of the model (e.g. 512 for Bert).\n",
            "  warnings.warn(\n",
            "/usr/local/lib/python3.10/dist-packages/transformers/tokenization_utils_base.py:2614: FutureWarning: The `pad_to_max_length` argument is deprecated and will be removed in a future version, use `padding=True` or `padding='longest'` to pad to the longest sequence in the batch, or use `padding='max_length'` to pad to a max length. In this case, you can give a specific length with `max_length` (e.g. `max_length=45`) or leave max_length to None to pad to the maximal input size of the model (e.g. 512 for Bert).\n",
            "  warnings.warn(\n",
            "/usr/local/lib/python3.10/dist-packages/transformers/tokenization_utils_base.py:2614: FutureWarning: The `pad_to_max_length` argument is deprecated and will be removed in a future version, use `padding=True` or `padding='longest'` to pad to the longest sequence in the batch, or use `padding='max_length'` to pad to a max length. In this case, you can give a specific length with `max_length` (e.g. `max_length=45`) or leave max_length to None to pad to the maximal input size of the model (e.g. 512 for Bert).\n",
            "  warnings.warn(\n",
            "/usr/local/lib/python3.10/dist-packages/transformers/tokenization_utils_base.py:2614: FutureWarning: The `pad_to_max_length` argument is deprecated and will be removed in a future version, use `padding=True` or `padding='longest'` to pad to the longest sequence in the batch, or use `padding='max_length'` to pad to a max length. In this case, you can give a specific length with `max_length` (e.g. `max_length=45`) or leave max_length to None to pad to the maximal input size of the model (e.g. 512 for Bert).\n",
            "  warnings.warn(\n"
          ]
        },
        {
          "output_type": "stream",
          "name": "stdout",
          "text": [
            "Epoch 1/3; Train Loss: 0.7075; Valid Loss: 0.6940; Train Acc: 8.0363; Valid Acc: 7.9680\n"
          ]
        },
        {
          "output_type": "stream",
          "name": "stderr",
          "text": [
            "/usr/local/lib/python3.10/dist-packages/transformers/tokenization_utils_base.py:2614: FutureWarning: The `pad_to_max_length` argument is deprecated and will be removed in a future version, use `padding=True` or `padding='longest'` to pad to the longest sequence in the batch, or use `padding='max_length'` to pad to a max length. In this case, you can give a specific length with `max_length` (e.g. `max_length=45`) or leave max_length to None to pad to the maximal input size of the model (e.g. 512 for Bert).\n",
            "  warnings.warn(\n",
            "/usr/local/lib/python3.10/dist-packages/transformers/tokenization_utils_base.py:2614: FutureWarning: The `pad_to_max_length` argument is deprecated and will be removed in a future version, use `padding=True` or `padding='longest'` to pad to the longest sequence in the batch, or use `padding='max_length'` to pad to a max length. In this case, you can give a specific length with `max_length` (e.g. `max_length=45`) or leave max_length to None to pad to the maximal input size of the model (e.g. 512 for Bert).\n",
            "  warnings.warn(\n",
            "/usr/local/lib/python3.10/dist-packages/transformers/tokenization_utils_base.py:2614: FutureWarning: The `pad_to_max_length` argument is deprecated and will be removed in a future version, use `padding=True` or `padding='longest'` to pad to the longest sequence in the batch, or use `padding='max_length'` to pad to a max length. In this case, you can give a specific length with `max_length` (e.g. `max_length=45`) or leave max_length to None to pad to the maximal input size of the model (e.g. 512 for Bert).\n",
            "  warnings.warn(\n",
            "/usr/local/lib/python3.10/dist-packages/transformers/tokenization_utils_base.py:2614: FutureWarning: The `pad_to_max_length` argument is deprecated and will be removed in a future version, use `padding=True` or `padding='longest'` to pad to the longest sequence in the batch, or use `padding='max_length'` to pad to a max length. In this case, you can give a specific length with `max_length` (e.g. `max_length=45`) or leave max_length to None to pad to the maximal input size of the model (e.g. 512 for Bert).\n",
            "  warnings.warn(\n",
            "/usr/local/lib/python3.10/dist-packages/transformers/tokenization_utils_base.py:2614: FutureWarning: The `pad_to_max_length` argument is deprecated and will be removed in a future version, use `padding=True` or `padding='longest'` to pad to the longest sequence in the batch, or use `padding='max_length'` to pad to a max length. In this case, you can give a specific length with `max_length` (e.g. `max_length=45`) or leave max_length to None to pad to the maximal input size of the model (e.g. 512 for Bert).\n",
            "  warnings.warn(\n",
            "/usr/local/lib/python3.10/dist-packages/transformers/tokenization_utils_base.py:2614: FutureWarning: The `pad_to_max_length` argument is deprecated and will be removed in a future version, use `padding=True` or `padding='longest'` to pad to the longest sequence in the batch, or use `padding='max_length'` to pad to a max length. In this case, you can give a specific length with `max_length` (e.g. `max_length=45`) or leave max_length to None to pad to the maximal input size of the model (e.g. 512 for Bert).\n",
            "  warnings.warn(\n",
            "/usr/local/lib/python3.10/dist-packages/transformers/tokenization_utils_base.py:2614: FutureWarning: The `pad_to_max_length` argument is deprecated and will be removed in a future version, use `padding=True` or `padding='longest'` to pad to the longest sequence in the batch, or use `padding='max_length'` to pad to a max length. In this case, you can give a specific length with `max_length` (e.g. `max_length=45`) or leave max_length to None to pad to the maximal input size of the model (e.g. 512 for Bert).\n",
            "  warnings.warn(\n",
            "/usr/local/lib/python3.10/dist-packages/transformers/tokenization_utils_base.py:2614: FutureWarning: The `pad_to_max_length` argument is deprecated and will be removed in a future version, use `padding=True` or `padding='longest'` to pad to the longest sequence in the batch, or use `padding='max_length'` to pad to a max length. In this case, you can give a specific length with `max_length` (e.g. `max_length=45`) or leave max_length to None to pad to the maximal input size of the model (e.g. 512 for Bert).\n",
            "  warnings.warn(\n",
            "/usr/local/lib/python3.10/dist-packages/transformers/tokenization_utils_base.py:2614: FutureWarning: The `pad_to_max_length` argument is deprecated and will be removed in a future version, use `padding=True` or `padding='longest'` to pad to the longest sequence in the batch, or use `padding='max_length'` to pad to a max length. In this case, you can give a specific length with `max_length` (e.g. `max_length=45`) or leave max_length to None to pad to the maximal input size of the model (e.g. 512 for Bert).\n",
            "  warnings.warn(\n",
            "/usr/local/lib/python3.10/dist-packages/transformers/tokenization_utils_base.py:2614: FutureWarning: The `pad_to_max_length` argument is deprecated and will be removed in a future version, use `padding=True` or `padding='longest'` to pad to the longest sequence in the batch, or use `padding='max_length'` to pad to a max length. In this case, you can give a specific length with `max_length` (e.g. `max_length=45`) or leave max_length to None to pad to the maximal input size of the model (e.g. 512 for Bert).\n",
            "  warnings.warn(\n",
            "/usr/local/lib/python3.10/dist-packages/transformers/tokenization_utils_base.py:2614: FutureWarning: The `pad_to_max_length` argument is deprecated and will be removed in a future version, use `padding=True` or `padding='longest'` to pad to the longest sequence in the batch, or use `padding='max_length'` to pad to a max length. In this case, you can give a specific length with `max_length` (e.g. `max_length=45`) or leave max_length to None to pad to the maximal input size of the model (e.g. 512 for Bert).\n",
            "  warnings.warn(\n",
            "/usr/local/lib/python3.10/dist-packages/transformers/tokenization_utils_base.py:2614: FutureWarning: The `pad_to_max_length` argument is deprecated and will be removed in a future version, use `padding=True` or `padding='longest'` to pad to the longest sequence in the batch, or use `padding='max_length'` to pad to a max length. In this case, you can give a specific length with `max_length` (e.g. `max_length=45`) or leave max_length to None to pad to the maximal input size of the model (e.g. 512 for Bert).\n",
            "  warnings.warn(\n",
            "/usr/local/lib/python3.10/dist-packages/transformers/tokenization_utils_base.py:2614: FutureWarning: The `pad_to_max_length` argument is deprecated and will be removed in a future version, use `padding=True` or `padding='longest'` to pad to the longest sequence in the batch, or use `padding='max_length'` to pad to a max length. In this case, you can give a specific length with `max_length` (e.g. `max_length=45`) or leave max_length to None to pad to the maximal input size of the model (e.g. 512 for Bert).\n",
            "  warnings.warn(\n",
            "/usr/local/lib/python3.10/dist-packages/transformers/tokenization_utils_base.py:2614: FutureWarning: The `pad_to_max_length` argument is deprecated and will be removed in a future version, use `padding=True` or `padding='longest'` to pad to the longest sequence in the batch, or use `padding='max_length'` to pad to a max length. In this case, you can give a specific length with `max_length` (e.g. `max_length=45`) or leave max_length to None to pad to the maximal input size of the model (e.g. 512 for Bert).\n",
            "  warnings.warn(\n",
            "/usr/local/lib/python3.10/dist-packages/transformers/tokenization_utils_base.py:2614: FutureWarning: The `pad_to_max_length` argument is deprecated and will be removed in a future version, use `padding=True` or `padding='longest'` to pad to the longest sequence in the batch, or use `padding='max_length'` to pad to a max length. In this case, you can give a specific length with `max_length` (e.g. `max_length=45`) or leave max_length to None to pad to the maximal input size of the model (e.g. 512 for Bert).\n",
            "  warnings.warn(\n",
            "/usr/local/lib/python3.10/dist-packages/transformers/tokenization_utils_base.py:2614: FutureWarning: The `pad_to_max_length` argument is deprecated and will be removed in a future version, use `padding=True` or `padding='longest'` to pad to the longest sequence in the batch, or use `padding='max_length'` to pad to a max length. In this case, you can give a specific length with `max_length` (e.g. `max_length=45`) or leave max_length to None to pad to the maximal input size of the model (e.g. 512 for Bert).\n",
            "  warnings.warn(\n"
          ]
        },
        {
          "output_type": "stream",
          "name": "stdout",
          "text": [
            "Epoch 2/3; Train Loss: 0.6992; Valid Loss: 0.6952; Train Acc: 8.0363; Valid Acc: 7.9680\n"
          ]
        },
        {
          "output_type": "stream",
          "name": "stderr",
          "text": [
            "/usr/local/lib/python3.10/dist-packages/transformers/tokenization_utils_base.py:2614: FutureWarning: The `pad_to_max_length` argument is deprecated and will be removed in a future version, use `padding=True` or `padding='longest'` to pad to the longest sequence in the batch, or use `padding='max_length'` to pad to a max length. In this case, you can give a specific length with `max_length` (e.g. `max_length=45`) or leave max_length to None to pad to the maximal input size of the model (e.g. 512 for Bert).\n",
            "  warnings.warn(\n",
            "/usr/local/lib/python3.10/dist-packages/transformers/tokenization_utils_base.py:2614: FutureWarning: The `pad_to_max_length` argument is deprecated and will be removed in a future version, use `padding=True` or `padding='longest'` to pad to the longest sequence in the batch, or use `padding='max_length'` to pad to a max length. In this case, you can give a specific length with `max_length` (e.g. `max_length=45`) or leave max_length to None to pad to the maximal input size of the model (e.g. 512 for Bert).\n",
            "  warnings.warn(\n",
            "/usr/local/lib/python3.10/dist-packages/transformers/tokenization_utils_base.py:2614: FutureWarning: The `pad_to_max_length` argument is deprecated and will be removed in a future version, use `padding=True` or `padding='longest'` to pad to the longest sequence in the batch, or use `padding='max_length'` to pad to a max length. In this case, you can give a specific length with `max_length` (e.g. `max_length=45`) or leave max_length to None to pad to the maximal input size of the model (e.g. 512 for Bert).\n",
            "  warnings.warn(\n",
            "/usr/local/lib/python3.10/dist-packages/transformers/tokenization_utils_base.py:2614: FutureWarning: The `pad_to_max_length` argument is deprecated and will be removed in a future version, use `padding=True` or `padding='longest'` to pad to the longest sequence in the batch, or use `padding='max_length'` to pad to a max length. In this case, you can give a specific length with `max_length` (e.g. `max_length=45`) or leave max_length to None to pad to the maximal input size of the model (e.g. 512 for Bert).\n",
            "  warnings.warn(\n",
            "Exception ignored in: <function _MultiProcessingDataLoaderIter.__del__ at 0x7a5a33ffa320>\n",
            "Traceback (most recent call last):\n",
            "  File \"/usr/local/lib/python3.10/dist-packages/torch/utils/data/dataloader.py\", line 1478, in __del__\n",
            "    self._shutdown_workers()\n",
            "  File \"/usr/local/lib/python3.10/dist-packages/torch/utils/data/dataloader.py\", line 1442, in _shutdown_workers\n",
            "    w.join(timeout=_utils.MP_STATUS_CHECK_INTERVAL)\n",
            "  File \"/usr/lib/python3.10/multiprocessing/process.py\", line 149, in join\n",
            "    res = self._popen.wait(timeout)\n",
            "  File \"/usr/lib/python3.10/multiprocessing/popen_fork.py\", line 40, in wait\n",
            "    if not wait([self.sentinel], timeout):\n",
            "  File \"/usr/lib/python3.10/multiprocessing/connection.py\", line 931, in wait\n",
            "    ready = selector.select(timeout)\n",
            "  File \"/usr/lib/python3.10/selectors.py\", line 416, in select\n",
            "    fd_event_list = self._selector.poll(timeout)\n",
            "KeyboardInterrupt: \n"
          ]
        },
        {
          "output_type": "error",
          "ename": "KeyboardInterrupt",
          "evalue": "ignored",
          "traceback": [
            "\u001b[0;31m---------------------------------------------------------------------------\u001b[0m",
            "\u001b[0;31mKeyboardInterrupt\u001b[0m                         Traceback (most recent call last)",
            "\u001b[0;32m<ipython-input-16-7db2006dc3ee>\u001b[0m in \u001b[0;36m<cell line: 6>\u001b[0;34m()\u001b[0m\n\u001b[1;32m      4\u001b[0m \u001b[0mdevice\u001b[0m \u001b[0;34m=\u001b[0m \u001b[0mtorch\u001b[0m\u001b[0;34m.\u001b[0m\u001b[0mdevice\u001b[0m\u001b[0;34m(\u001b[0m\u001b[0;34m'cuda'\u001b[0m \u001b[0;32mif\u001b[0m \u001b[0mtorch\u001b[0m\u001b[0;34m.\u001b[0m\u001b[0mcuda\u001b[0m\u001b[0;34m.\u001b[0m\u001b[0mis_available\u001b[0m\u001b[0;34m(\u001b[0m\u001b[0;34m)\u001b[0m \u001b[0;32melse\u001b[0m \u001b[0;34m'cpu'\u001b[0m\u001b[0;34m)\u001b[0m\u001b[0;34m\u001b[0m\u001b[0;34m\u001b[0m\u001b[0m\n\u001b[1;32m      5\u001b[0m \u001b[0mmodel\u001b[0m \u001b[0;34m=\u001b[0m \u001b[0mSentimentClassifierLast\u001b[0m\u001b[0;34m(\u001b[0m\u001b[0mn_classes\u001b[0m \u001b[0;34m=\u001b[0m \u001b[0;36m1\u001b[0m\u001b[0;34m,\u001b[0m\u001b[0mdropout_rate\u001b[0m\u001b[0;34m=\u001b[0m\u001b[0;36m0.8\u001b[0m\u001b[0;34m,\u001b[0m \u001b[0mhidden_layer_size\u001b[0m\u001b[0;34m=\u001b[0m\u001b[0;36m256\u001b[0m\u001b[0;34m)\u001b[0m\u001b[0;34m\u001b[0m\u001b[0;34m\u001b[0m\u001b[0m\n\u001b[0;32m----> 6\u001b[0;31m \u001b[0mtrain_model\u001b[0m\u001b[0;34m(\u001b[0m\u001b[0mmodel\u001b[0m\u001b[0;34m,\u001b[0m \u001b[0mtrain_data_loader\u001b[0m\u001b[0;34m,\u001b[0m \u001b[0mvalid_data_loader\u001b[0m\u001b[0;34m,\u001b[0m \u001b[0mnum_epochs\u001b[0m\u001b[0;34m=\u001b[0m\u001b[0;36m3\u001b[0m\u001b[0;34m,\u001b[0m \u001b[0mlearning_rate\u001b[0m\u001b[0;34m=\u001b[0m\u001b[0;36m0.001\u001b[0m\u001b[0;34m,\u001b[0m\u001b[0mdevice\u001b[0m \u001b[0;34m=\u001b[0m \u001b[0mdevice\u001b[0m\u001b[0;34m)\u001b[0m\u001b[0;34m\u001b[0m\u001b[0;34m\u001b[0m\u001b[0m\n\u001b[0m\u001b[1;32m      7\u001b[0m \u001b[0;34m\u001b[0m\u001b[0m\n\u001b[1;32m      8\u001b[0m \u001b[0;34m\u001b[0m\u001b[0m\n",
            "\u001b[0;32m<ipython-input-12-7bbd96718250>\u001b[0m in \u001b[0;36mtrain_model\u001b[0;34m(model, train_loader, valid_loader, num_epochs, learning_rate, device)\u001b[0m\n\u001b[1;32m     22\u001b[0m             \u001b[0;31m# Use Binary CrossEntropyLoss and sigmoid activation\u001b[0m\u001b[0;34m\u001b[0m\u001b[0;34m\u001b[0m\u001b[0m\n\u001b[1;32m     23\u001b[0m             \u001b[0mloss\u001b[0m \u001b[0;34m=\u001b[0m \u001b[0mcriterion\u001b[0m\u001b[0;34m(\u001b[0m\u001b[0mprobabilities\u001b[0m\u001b[0;34m,\u001b[0m \u001b[0mtargets\u001b[0m\u001b[0;34m.\u001b[0m\u001b[0munsqueeze\u001b[0m\u001b[0;34m(\u001b[0m\u001b[0;36m1\u001b[0m\u001b[0;34m)\u001b[0m\u001b[0;34m.\u001b[0m\u001b[0mfloat\u001b[0m\u001b[0;34m(\u001b[0m\u001b[0;34m)\u001b[0m\u001b[0;34m)\u001b[0m\u001b[0;34m\u001b[0m\u001b[0;34m\u001b[0m\u001b[0m\n\u001b[0;32m---> 24\u001b[0;31m             \u001b[0mloss\u001b[0m\u001b[0;34m.\u001b[0m\u001b[0mbackward\u001b[0m\u001b[0;34m(\u001b[0m\u001b[0;34m)\u001b[0m\u001b[0;34m\u001b[0m\u001b[0;34m\u001b[0m\u001b[0m\n\u001b[0m\u001b[1;32m     25\u001b[0m             \u001b[0moptimizer\u001b[0m\u001b[0;34m.\u001b[0m\u001b[0mstep\u001b[0m\u001b[0;34m(\u001b[0m\u001b[0;34m)\u001b[0m\u001b[0;34m\u001b[0m\u001b[0;34m\u001b[0m\u001b[0m\n\u001b[1;32m     26\u001b[0m \u001b[0;34m\u001b[0m\u001b[0m\n",
            "\u001b[0;32m/usr/local/lib/python3.10/dist-packages/torch/_tensor.py\u001b[0m in \u001b[0;36mbackward\u001b[0;34m(self, gradient, retain_graph, create_graph, inputs)\u001b[0m\n\u001b[1;32m    490\u001b[0m                 \u001b[0minputs\u001b[0m\u001b[0;34m=\u001b[0m\u001b[0minputs\u001b[0m\u001b[0;34m,\u001b[0m\u001b[0;34m\u001b[0m\u001b[0;34m\u001b[0m\u001b[0m\n\u001b[1;32m    491\u001b[0m             )\n\u001b[0;32m--> 492\u001b[0;31m         torch.autograd.backward(\n\u001b[0m\u001b[1;32m    493\u001b[0m             \u001b[0mself\u001b[0m\u001b[0;34m,\u001b[0m \u001b[0mgradient\u001b[0m\u001b[0;34m,\u001b[0m \u001b[0mretain_graph\u001b[0m\u001b[0;34m,\u001b[0m \u001b[0mcreate_graph\u001b[0m\u001b[0;34m,\u001b[0m \u001b[0minputs\u001b[0m\u001b[0;34m=\u001b[0m\u001b[0minputs\u001b[0m\u001b[0;34m\u001b[0m\u001b[0;34m\u001b[0m\u001b[0m\n\u001b[1;32m    494\u001b[0m         )\n",
            "\u001b[0;32m/usr/local/lib/python3.10/dist-packages/torch/autograd/__init__.py\u001b[0m in \u001b[0;36mbackward\u001b[0;34m(tensors, grad_tensors, retain_graph, create_graph, grad_variables, inputs)\u001b[0m\n\u001b[1;32m    249\u001b[0m     \u001b[0;31m# some Python versions print out the first line of a multi-line function\u001b[0m\u001b[0;34m\u001b[0m\u001b[0;34m\u001b[0m\u001b[0m\n\u001b[1;32m    250\u001b[0m     \u001b[0;31m# calls in the traceback and some print out the last line\u001b[0m\u001b[0;34m\u001b[0m\u001b[0;34m\u001b[0m\u001b[0m\n\u001b[0;32m--> 251\u001b[0;31m     Variable._execution_engine.run_backward(  # Calls into the C++ engine to run the backward pass\n\u001b[0m\u001b[1;32m    252\u001b[0m         \u001b[0mtensors\u001b[0m\u001b[0;34m,\u001b[0m\u001b[0;34m\u001b[0m\u001b[0;34m\u001b[0m\u001b[0m\n\u001b[1;32m    253\u001b[0m         \u001b[0mgrad_tensors_\u001b[0m\u001b[0;34m,\u001b[0m\u001b[0;34m\u001b[0m\u001b[0;34m\u001b[0m\u001b[0m\n",
            "\u001b[0;31mKeyboardInterrupt\u001b[0m: "
          ]
        }
      ],
      "source": [
        "# TO BE COMPLETED\n",
        "\n",
        "# Run 1 Setting dropout_rate = 0.8 , hidden_layer_size = 256 , lr = 0.001 , num_epochs = 3)\n",
        "device = torch.device('cuda' if torch.cuda.is_available() else 'cpu')\n",
        "model = SentimentClassifierLast(n_classes = 1,dropout_rate=0.8, hidden_layer_size=256)\n",
        "train_model(model, train_data_loader, valid_data_loader, num_epochs=3, learning_rate=0.001,device = device)\n",
        "\n",
        "\n",
        "\n"
      ]
    },
    {
      "cell_type": "code",
      "source": [
        "# Run 2 Setting dropout_rate = 0.5 , hidden_layer_size = 128 , lr = 0.001 , num_epochs = 3)\n",
        "device = torch.device('cuda' if torch.cuda.is_available() else 'cpu')\n",
        "model = SentimentClassifierLast(n_classes = 1,dropout_rate=0.5, hidden_layer_size=128)\n",
        "train_model(model, train_data_loader, valid_data_loader, num_epochs=3, learning_rate=0.001,device = device)"
      ],
      "metadata": {
        "id": "MfYmg-Wa2pc9"
      },
      "execution_count": null,
      "outputs": []
    },
    {
      "cell_type": "code",
      "source": [
        "# Run 3 Setting dropout_rate = 0.5 , hidden_layer_size = 256 , lr = 0.01 , num_epochs = 3)\n",
        "device = torch.device('cuda' if torch.cuda.is_available() else 'cpu')\n",
        "model = SentimentClassifierLast(n_classes = 1,dropout_rate=0.5, hidden_layer_size=256)\n",
        "train_model(model, train_data_loader, valid_data_loader, num_epochs=3, learning_rate=0.01,device = device)"
      ],
      "metadata": {
        "id": "kAymvuxH2vcn"
      },
      "execution_count": null,
      "outputs": []
    },
    {
      "cell_type": "code",
      "execution_count": null,
      "metadata": {
        "id": "N9o-7udJmahe"
      },
      "outputs": [],
      "source": [
        "'''\n",
        "PROVIDE YOUR ANSWER BELOW\n",
        "\n",
        "\n",
        "\n",
        "\n",
        "\n",
        "\n",
        "'''"
      ]
    },
    {
      "cell_type": "markdown",
      "metadata": {
        "id": "ecKaJIpQe9UV"
      },
      "source": [
        "## Part 4. Evaluation [10 pt]\n",
        "\n",
        "### Part (i) [3pt RESULT]\n",
        "\n",
        "Report the final test accuracy of your best BERT-based model. Then summarize in a pandas dataframe the accuracy obtained on the training, validation, and test data of your best models from Part A and B.\n",
        "\n",
        "How does the BERT model compare to the approach in part A using only LSTM? Are the results what you expected? Explain.\n",
        "\n"
      ]
    },
    {
      "cell_type": "code",
      "execution_count": null,
      "metadata": {
        "id": "AoweZb8i2cRb"
      },
      "outputs": [],
      "source": [
        "# TO BE COMPLETED\n",
        "\n",
        "\n",
        "\n"
      ]
    },
    {
      "cell_type": "code",
      "source": [
        "import pandas as pd\n",
        "\n",
        "# Replace these with your actual accuracy values\n",
        "part_a_accuracy = {'Training': 0.9323, 'Validation': 0.8472, 'Test': 0.8436}\n",
        "part_b_accuracy = {'Training': 0.90, 'Validation': 0.88, 'Test': 0.87}\n",
        "\n",
        "# Create a DataFrame\n",
        "accuracy_df = pd.DataFrame({'Part A (LSTM)': part_a_accuracy, 'Part B (BERT)': part_b_accuracy})\n",
        "\n",
        "# Print the DataFrame\n",
        "print(accuracy_df)"
      ],
      "metadata": {
        "id": "i2rQrFDsmhGc"
      },
      "execution_count": null,
      "outputs": []
    },
    {
      "cell_type": "code",
      "execution_count": null,
      "metadata": {
        "id": "1RIZ3JWzm2a_"
      },
      "outputs": [],
      "source": [
        "'''\n",
        "PROVIDE YOUR ANSWER BELOW\n",
        "\n",
        "BERT Model vs. LSTM Model:\n",
        "\n",
        "BERT is a powerful pre-trained language model that often outperforms traditional models like LSTM on various NLP tasks. It captures contextual information and semantic relationships effectively.\n",
        "The BERT model is expected to perform better, especially if your dataset is large and diverse. BERT has the advantage of pre-training on a massive corpus, allowing it to capture rich contextual information.\n",
        "Expected Results:\n",
        "\n",
        "You would typically expect the BERT model to achieve higher accuracy on the test set compared to the LSTM model. BERT's contextual embeddings are designed to capture complex relationships in language, providing a more sophisticated understanding of text.\n",
        "Considerations:\n",
        "\n",
        "Ensure that you have fine-tuned the BERT model appropriately for your specific task and dataset. The performance of BERT can be sensitive to the fine-tuning process.\n",
        "BERT may require more computational resources and time for training compared to LSTM models.\n",
        "Interpretation:\n",
        "\n",
        "If the BERT model outperforms the LSTM model, it indicates the effectiveness of leveraging pre-trained contextual embeddings for sentiment analysis. The results are consistent with the expectation that pre-trained models like BERT can offer substantial improvements over traditional architectures.\n",
        "\n",
        "\n",
        "\n",
        "\n",
        "'''"
      ]
    },
    {
      "cell_type": "markdown",
      "metadata": {
        "id": "ybdyEKx5Ww4F"
      },
      "source": [
        "### Part (ii) [2pt RESULT]\n",
        "\n",
        "Report the false positive rate and false negative rate of your model across the test set. Then summarize in a pandas dataframe the false postive and false negative rate of your model obtained on the training, validation, and test data of your best models from Part A and B.\n",
        "\n",
        "How does the BERT model compare to the approach in part A using only LSTM? Are the results what you expected? Explain."
      ]
    },
    {
      "cell_type": "code",
      "execution_count": null,
      "metadata": {
        "id": "vuxLCHhFWw4F"
      },
      "outputs": [],
      "source": [
        "# TO BE COMPLETED\n",
        "\n",
        "import pandas as pd\n",
        "from sklearn.metrics import confusion_matrix\n",
        "\n",
        "# Replace these with your actual predictions and ground truth labels\n",
        "# Assuming y_true and y_pred are NumPy arrays or PyTorch tensors\n",
        "y_true = ...  # Ground truth labels\n",
        "y_pred = ...  # Predicted labels\n",
        "\n",
        "# Calculate confusion matrix\n",
        "conf_matrix = confusion_matrix(y_true, y_pred)\n",
        "\n",
        "# Calculate False Positive Rate (FPR) and False Negative Rate (FNR)\n",
        "fpr = conf_matrix[0, 1] / (conf_matrix[0, 1] + conf_matrix[0, 0])\n",
        "fnr = conf_matrix[1, 0] / (conf_matrix[1, 0] + conf_matrix[1, 1])\n",
        "\n",
        "# Create a DataFrame\n",
        "fpr_fnr_df = pd.DataFrame({'FPR': [fpr], 'FNR': [fnr]})\n",
        "\n",
        "# Print the DataFrame\n",
        "print(fpr_fnr_df)\n"
      ]
    },
    {
      "cell_type": "code",
      "execution_count": null,
      "metadata": {
        "id": "vIu8lB9jm3X_"
      },
      "outputs": [],
      "source": [
        "'''\n",
        "PROVIDE YOUR ANSWER BELOW\n",
        "\n",
        "\n",
        "\n",
        "\n",
        "\n",
        "\n",
        "'''"
      ]
    },
    {
      "cell_type": "markdown",
      "metadata": {
        "id": "646WjsAwWw4F"
      },
      "source": [
        "### Part (iii) [3pt DISCUSSION]\n",
        "Examine some of the misclassified reviews from you best BERT and LSTM models to better identify the differences in the models. Try to provide some justification for any differences in the misclassifications observed in the models.\n",
        "\n",
        "Is there any part of the review that you could modify to make the classifications correct? Try to make small changes to the review to see if you can make the model make the correct classification while keeping the review as close to the original as possible."
      ]
    },
    {
      "cell_type": "code",
      "execution_count": null,
      "metadata": {
        "id": "0OvvnW8OWw4G"
      },
      "outputs": [],
      "source": [
        "# TO BE COMPLETED\n",
        "\n",
        "device = torch.device('cuda' if torch.cuda.is_available() else 'cpu')\n",
        "\n",
        "# Get the reverse mapping of stoi for converting indices back to words\n",
        "stoi_reverse = {i + 1: ch for i, ch in enumerate(stoi)}\n",
        "\n",
        "misclassified_positive, misclassified_negative = analyze_misclassified(model, test_loader, device, stoi_reverse)\n",
        "\n",
        "# Print the total number of misclassified samples\n",
        "print(f\"Total Misclassified Positive Reviews: {len(misclassified_positive)}\")\n",
        "print(f\"Total Misclassified Negative Reviews: {len(misclassified_negative)}\")\n",
        "\n",
        "# Print up to 5 examples of misclassified positive reviews\n",
        "print(\"\\nMisclassified Positive Reviews:\")\n",
        "for i, sample in enumerate(misclassified_positive[:min(5, len(misclassified_positive))]):\n",
        "    print(f\"Example {i + 1}\")\n",
        "    print(f\"True Label: {sample['true_label']}, Predicted Label: {sample['predicted_label']}\")\n",
        "    print(f\"Text: {sample['text']}\\n\")  # Add newline after printing text\n",
        "\n",
        "# Print up to 5 examples of misclassified negative reviews\n",
        "print(\"\\nMisclassified Negative Reviews:\")\n",
        "for i, sample in enumerate(misclassified_negative[:min(5, len(misclassified_negative))]):\n",
        "    print(f\"Example {i + 1}\")\n",
        "    print(f\"True Label: {sample['true_label']}, Predicted Label: {sample['predicted_label']}\")\n",
        "    print(f\"Text: {sample['text']}\\n\")  # Add newline after printing text\n",
        "\n"
      ]
    },
    {
      "cell_type": "code",
      "execution_count": null,
      "metadata": {
        "id": "7TWkK5Sgm4YM"
      },
      "outputs": [],
      "source": [
        "'''\n",
        "PROVIDE YOUR ANSWER BELOW\n",
        "\n",
        "\n",
        "\n",
        "\n",
        "\n",
        "\n",
        "'''"
      ]
    },
    {
      "cell_type": "markdown",
      "metadata": {
        "id": "H4FlSj_Mn2yY"
      },
      "source": [
        "### Part (iv) [2pt DISCUSSION]\n",
        "Find 5 samples of positive and negative reviews on IMDB that were posted recently and evaluate them with your best BERT and LSTM models from parts A and B. How well do they perform?"
      ]
    },
    {
      "cell_type": "code",
      "execution_count": null,
      "metadata": {
        "id": "y3DCyMW_n05f"
      },
      "outputs": [],
      "source": [
        "# TO BE COMPLETED\n",
        "\n",
        "\n",
        "\n"
      ]
    },
    {
      "cell_type": "code",
      "execution_count": null,
      "metadata": {
        "id": "0kLt9a5Xm5cO"
      },
      "outputs": [],
      "source": [
        "'''\n",
        "PROVIDE YOUR ANSWER BELOW\n",
        "\n",
        "\n",
        "\n",
        "\n",
        "\n",
        "\n",
        "'''"
      ]
    },
    {
      "cell_type": "markdown",
      "metadata": {
        "id": "ARDyU7N2mWFh"
      },
      "source": [
        "# PART C (Optional) - Bonus Challenge!\n",
        "\n",
        "This is an optional exercise for those that finish the assignment early and would like to take on a challenging task.\n",
        "\n",
        "In part A we constructed and trained an LSTM model to identify the sentiment in movie reviews. In Part B we used the embeddings of a BERT model pretrained on a large corpus of text to demonstrate how transfer learning can be used to improve our movie sentiment model. The BERT model is one of many language models that we could have used to implement transfer learning.\n",
        "\n",
        "For this bonus challenge you are asked to implement a generative character-level LSTM model to produce IMDB movie reviews. Once the model is sufficiently trained you can then use its hidden states as the embedding for training a movie sentiment model. Construct your new movie sentiment analysis model and compare the performance against the model from part A and B.\n",
        "\n",
        "There are many variants of a generative LSTM model that you can consider. As a starting point you can use the generative LSTM sample code provided in the lecture notes. Specifically, the one used to generate Shakeaspeare. More advanced versions of a generative LSTM can be found in the Universal Language Model Fine-turing for Text Classification (ULMfit) paper (https://arxiv.org/abs/1801.06146).\n",
        "\n",
        "Tasks:\n",
        "\n",
        "1. Create a generative character-level LSTM model trained to create IMDB reviews\n",
        "2. Create a classifier using the embeddings from the generative LSTM model (from step 1) to identify positive and negative reviews.\n",
        "3. Compare the performance of the model with the results in parts A and B of the assignment.\n",
        "4. Upgrade the generative LSTM model using the techniques listed in the ULMfit paper (e.g., bi-directional LSTM, pretraining with wikipedia text and fine-tuning on IMDBT reviews, etc.).\n",
        "\n",
        "Bonus marks will be provided based on the number of steps completed. Summarize below your results and anything intersting you learned from the steps that you completed. Bonus marks cannot be accumulated beyond a maximum assignment grade.\n"
      ]
    },
    {
      "cell_type": "code",
      "execution_count": null,
      "metadata": {
        "id": "9eUKPfCumdpW"
      },
      "outputs": [],
      "source": [
        "# TO BE COMPLETED\n",
        "\n",
        "\n"
      ]
    },
    {
      "cell_type": "code",
      "execution_count": null,
      "metadata": {
        "id": "ryS5uR0NB8pE"
      },
      "outputs": [],
      "source": [
        "'''\n",
        "PROVIDE YOUR ANSWER BELOW\n",
        "\n",
        "\n",
        "\n",
        "\n",
        "\n",
        "\n",
        "'''"
      ]
    },
    {
      "cell_type": "markdown",
      "metadata": {
        "id": "FYwI4RmFS2RB"
      },
      "source": [
        "### Saving to HTML\n",
        "Detailed instructions for saving to HTML can be found <a href=\"https://stackoverflow.com/questions/53460051/convert-ipynb-notebook-to-html-in-google-colab/64487858#64487858\">here</a>. Provided below are a summary of the instructions:\n",
        "\n",
        "(1) download your ipynb file by clicking on File->Download.ipynb\n",
        "\n",
        "(2) reupload your file to the temporary Google Colab storage (you can access the temporary storage from the tab to the left)\n",
        "\n",
        "(3) run the following:"
      ]
    },
    {
      "cell_type": "code",
      "execution_count": null,
      "metadata": {
        "colab": {
          "base_uri": "https://localhost:8080/"
        },
        "id": "2TrsqdNgS5ex",
        "outputId": "9e08e659-76b4-4d8f-a5f3-c49a3cbe2096"
      },
      "outputs": [
        {
          "name": "stdout",
          "output_type": "stream",
          "text": [
            "[NbConvertApp] Converting notebook /content/A4.ipynb to html\n",
            "[NbConvertApp] Writing 679783 bytes to /content/A4.html\n"
          ]
        },
        {
          "data": {
            "text/plain": []
          },
          "execution_count": 1,
          "metadata": {},
          "output_type": "execute_result"
        }
      ],
      "source": [
        "#!pip install nbconvert\n",
        "\n",
        "%%shell\n",
        "jupyter nbconvert --to html /content/A4.ipynb\n"
      ]
    },
    {
      "cell_type": "markdown",
      "metadata": {
        "id": "nuXhlFlPTY7F"
      },
      "source": [
        "(4) the html file will be available for download in the temporary Google Colab storage\n",
        "\n",
        "(5) review the html file and make sure all the results are visible before submitting your assignment to Quercus"
      ]
    },
    {
      "cell_type": "markdown",
      "metadata": {
        "id": "Oo8xLbm4mggI"
      },
      "source": [
        "# Assignment Grading Rubric\n",
        "The grading of the assignment will be based on the following categories:\n",
        "\n",
        "(1) **10 Pt - EXPLORATORY QUESTIONS** These are basic questions that in most cases can be answered without requiring a fully working and trained neural network model. For example, data loading, processing and visualization, summary statistics, data exploration, model and training setup, etc.\n",
        "\n",
        "(2) **10 Pt - MODEL** Student has successfully implemented all the required neural network models and has demonstrated successful training of the model without any errors.\n",
        "\n",
        "(3) **10 Pt - RESULT** Students are evaluated based on the results achieved in comparison to the expected results of the assignment.\n",
        "\n",
        "(4) **10 Pt - DISCUSSION QUESTIONS** Student demonstrated understanding beyond the basic exploratory questions, can answer some of the more challenging questions, and provide arguments for their model selection decisions.\n",
        "\n",
        "(5) **10 Pt - COMMUNICATION** Student has provided a quality submission that is easy to read without too many unnecessary output statements that distract the reading of the document. The code has been well commented and all the answers are communicated clearly and concisely.\n",
        "\n",
        "(6) **10 Pt - BONUS** Student has completed the assignment and has taken on the challenging bonus tasks listed in PART C. The student has demonstrated a good understanding of all aspects of the assignment and has exceeded expectations for the assignment.\n",
        "\n",
        "\n",
        "\n",
        "**TOTAL GRADE = _____ of 50 Pts**"
      ]
    }
  ],
  "metadata": {
    "colab": {
      "provenance": []
    },
    "kernelspec": {
      "display_name": "Python 3",
      "name": "python3"
    },
    "language_info": {
      "codemirror_mode": {
        "name": "ipython",
        "version": 3
      },
      "file_extension": ".py",
      "mimetype": "text/x-python",
      "name": "python",
      "nbconvert_exporter": "python",
      "pygments_lexer": "ipython3",
      "version": "3.11.5"
    }
  },
  "nbformat": 4,
  "nbformat_minor": 0
}